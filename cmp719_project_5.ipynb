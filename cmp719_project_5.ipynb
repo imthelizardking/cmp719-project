{
  "nbformat": 4,
  "nbformat_minor": 0,
  "metadata": {
    "colab": {
      "provenance": [],
      "machine_shape": "hm",
      "gpuType": "T4",
      "authorship_tag": "ABX9TyOe7RTAW8FJspfM4bJxvoO+",
      "include_colab_link": true
    },
    "kernelspec": {
      "name": "python3",
      "display_name": "Python 3"
    },
    "language_info": {
      "name": "python"
    },
    "accelerator": "GPU",
    "widgets": {
      "application/vnd.jupyter.widget-state+json": {
        "0d68916922da45d6be2ceeb39f0a145c": {
          "model_module": "@jupyter-widgets/controls",
          "model_name": "HBoxModel",
          "model_module_version": "1.5.0",
          "state": {
            "_dom_classes": [],
            "_model_module": "@jupyter-widgets/controls",
            "_model_module_version": "1.5.0",
            "_model_name": "HBoxModel",
            "_view_count": null,
            "_view_module": "@jupyter-widgets/controls",
            "_view_module_version": "1.5.0",
            "_view_name": "HBoxView",
            "box_style": "",
            "children": [
              "IPY_MODEL_a559e279615c4e2b9b649b1ab5b6a34a",
              "IPY_MODEL_1cd5c30025d94a93842f5f042267dbb4",
              "IPY_MODEL_b17b4527ff654e87af09ba598fd30c61"
            ],
            "layout": "IPY_MODEL_6d3fb91977a74fcd948761de8c8312e4"
          }
        },
        "a559e279615c4e2b9b649b1ab5b6a34a": {
          "model_module": "@jupyter-widgets/controls",
          "model_name": "HTMLModel",
          "model_module_version": "1.5.0",
          "state": {
            "_dom_classes": [],
            "_model_module": "@jupyter-widgets/controls",
            "_model_module_version": "1.5.0",
            "_model_name": "HTMLModel",
            "_view_count": null,
            "_view_module": "@jupyter-widgets/controls",
            "_view_module_version": "1.5.0",
            "_view_name": "HTMLView",
            "description": "",
            "description_tooltip": null,
            "layout": "IPY_MODEL_3cb9c22d0c1d459e9351cd3555f36b9f",
            "placeholder": "​",
            "style": "IPY_MODEL_b7ae61c95d12463fb5d35449c690a9b0",
            "value": "Downloading model.safetensors: 100%"
          }
        },
        "1cd5c30025d94a93842f5f042267dbb4": {
          "model_module": "@jupyter-widgets/controls",
          "model_name": "FloatProgressModel",
          "model_module_version": "1.5.0",
          "state": {
            "_dom_classes": [],
            "_model_module": "@jupyter-widgets/controls",
            "_model_module_version": "1.5.0",
            "_model_name": "FloatProgressModel",
            "_view_count": null,
            "_view_module": "@jupyter-widgets/controls",
            "_view_module_version": "1.5.0",
            "_view_name": "ProgressView",
            "bar_style": "success",
            "description": "",
            "description_tooltip": null,
            "layout": "IPY_MODEL_a2f40aa8237644ccbe9d2ab75ebda121",
            "max": 346284714,
            "min": 0,
            "orientation": "horizontal",
            "style": "IPY_MODEL_7956306fe2454542b626682a84d503d2",
            "value": 346284714
          }
        },
        "b17b4527ff654e87af09ba598fd30c61": {
          "model_module": "@jupyter-widgets/controls",
          "model_name": "HTMLModel",
          "model_module_version": "1.5.0",
          "state": {
            "_dom_classes": [],
            "_model_module": "@jupyter-widgets/controls",
            "_model_module_version": "1.5.0",
            "_model_name": "HTMLModel",
            "_view_count": null,
            "_view_module": "@jupyter-widgets/controls",
            "_view_module_version": "1.5.0",
            "_view_name": "HTMLView",
            "description": "",
            "description_tooltip": null,
            "layout": "IPY_MODEL_09a76102a0a54bca923663689b90db2e",
            "placeholder": "​",
            "style": "IPY_MODEL_1e7ea58d5627423c8503a2491c29c50f",
            "value": " 346M/346M [00:00&lt;00:00, 481MB/s]"
          }
        },
        "6d3fb91977a74fcd948761de8c8312e4": {
          "model_module": "@jupyter-widgets/base",
          "model_name": "LayoutModel",
          "model_module_version": "1.2.0",
          "state": {
            "_model_module": "@jupyter-widgets/base",
            "_model_module_version": "1.2.0",
            "_model_name": "LayoutModel",
            "_view_count": null,
            "_view_module": "@jupyter-widgets/base",
            "_view_module_version": "1.2.0",
            "_view_name": "LayoutView",
            "align_content": null,
            "align_items": null,
            "align_self": null,
            "border": null,
            "bottom": null,
            "display": null,
            "flex": null,
            "flex_flow": null,
            "grid_area": null,
            "grid_auto_columns": null,
            "grid_auto_flow": null,
            "grid_auto_rows": null,
            "grid_column": null,
            "grid_gap": null,
            "grid_row": null,
            "grid_template_areas": null,
            "grid_template_columns": null,
            "grid_template_rows": null,
            "height": null,
            "justify_content": null,
            "justify_items": null,
            "left": null,
            "margin": null,
            "max_height": null,
            "max_width": null,
            "min_height": null,
            "min_width": null,
            "object_fit": null,
            "object_position": null,
            "order": null,
            "overflow": null,
            "overflow_x": null,
            "overflow_y": null,
            "padding": null,
            "right": null,
            "top": null,
            "visibility": null,
            "width": null
          }
        },
        "3cb9c22d0c1d459e9351cd3555f36b9f": {
          "model_module": "@jupyter-widgets/base",
          "model_name": "LayoutModel",
          "model_module_version": "1.2.0",
          "state": {
            "_model_module": "@jupyter-widgets/base",
            "_model_module_version": "1.2.0",
            "_model_name": "LayoutModel",
            "_view_count": null,
            "_view_module": "@jupyter-widgets/base",
            "_view_module_version": "1.2.0",
            "_view_name": "LayoutView",
            "align_content": null,
            "align_items": null,
            "align_self": null,
            "border": null,
            "bottom": null,
            "display": null,
            "flex": null,
            "flex_flow": null,
            "grid_area": null,
            "grid_auto_columns": null,
            "grid_auto_flow": null,
            "grid_auto_rows": null,
            "grid_column": null,
            "grid_gap": null,
            "grid_row": null,
            "grid_template_areas": null,
            "grid_template_columns": null,
            "grid_template_rows": null,
            "height": null,
            "justify_content": null,
            "justify_items": null,
            "left": null,
            "margin": null,
            "max_height": null,
            "max_width": null,
            "min_height": null,
            "min_width": null,
            "object_fit": null,
            "object_position": null,
            "order": null,
            "overflow": null,
            "overflow_x": null,
            "overflow_y": null,
            "padding": null,
            "right": null,
            "top": null,
            "visibility": null,
            "width": null
          }
        },
        "b7ae61c95d12463fb5d35449c690a9b0": {
          "model_module": "@jupyter-widgets/controls",
          "model_name": "DescriptionStyleModel",
          "model_module_version": "1.5.0",
          "state": {
            "_model_module": "@jupyter-widgets/controls",
            "_model_module_version": "1.5.0",
            "_model_name": "DescriptionStyleModel",
            "_view_count": null,
            "_view_module": "@jupyter-widgets/base",
            "_view_module_version": "1.2.0",
            "_view_name": "StyleView",
            "description_width": ""
          }
        },
        "a2f40aa8237644ccbe9d2ab75ebda121": {
          "model_module": "@jupyter-widgets/base",
          "model_name": "LayoutModel",
          "model_module_version": "1.2.0",
          "state": {
            "_model_module": "@jupyter-widgets/base",
            "_model_module_version": "1.2.0",
            "_model_name": "LayoutModel",
            "_view_count": null,
            "_view_module": "@jupyter-widgets/base",
            "_view_module_version": "1.2.0",
            "_view_name": "LayoutView",
            "align_content": null,
            "align_items": null,
            "align_self": null,
            "border": null,
            "bottom": null,
            "display": null,
            "flex": null,
            "flex_flow": null,
            "grid_area": null,
            "grid_auto_columns": null,
            "grid_auto_flow": null,
            "grid_auto_rows": null,
            "grid_column": null,
            "grid_gap": null,
            "grid_row": null,
            "grid_template_areas": null,
            "grid_template_columns": null,
            "grid_template_rows": null,
            "height": null,
            "justify_content": null,
            "justify_items": null,
            "left": null,
            "margin": null,
            "max_height": null,
            "max_width": null,
            "min_height": null,
            "min_width": null,
            "object_fit": null,
            "object_position": null,
            "order": null,
            "overflow": null,
            "overflow_x": null,
            "overflow_y": null,
            "padding": null,
            "right": null,
            "top": null,
            "visibility": null,
            "width": null
          }
        },
        "7956306fe2454542b626682a84d503d2": {
          "model_module": "@jupyter-widgets/controls",
          "model_name": "ProgressStyleModel",
          "model_module_version": "1.5.0",
          "state": {
            "_model_module": "@jupyter-widgets/controls",
            "_model_module_version": "1.5.0",
            "_model_name": "ProgressStyleModel",
            "_view_count": null,
            "_view_module": "@jupyter-widgets/base",
            "_view_module_version": "1.2.0",
            "_view_name": "StyleView",
            "bar_color": null,
            "description_width": ""
          }
        },
        "09a76102a0a54bca923663689b90db2e": {
          "model_module": "@jupyter-widgets/base",
          "model_name": "LayoutModel",
          "model_module_version": "1.2.0",
          "state": {
            "_model_module": "@jupyter-widgets/base",
            "_model_module_version": "1.2.0",
            "_model_name": "LayoutModel",
            "_view_count": null,
            "_view_module": "@jupyter-widgets/base",
            "_view_module_version": "1.2.0",
            "_view_name": "LayoutView",
            "align_content": null,
            "align_items": null,
            "align_self": null,
            "border": null,
            "bottom": null,
            "display": null,
            "flex": null,
            "flex_flow": null,
            "grid_area": null,
            "grid_auto_columns": null,
            "grid_auto_flow": null,
            "grid_auto_rows": null,
            "grid_column": null,
            "grid_gap": null,
            "grid_row": null,
            "grid_template_areas": null,
            "grid_template_columns": null,
            "grid_template_rows": null,
            "height": null,
            "justify_content": null,
            "justify_items": null,
            "left": null,
            "margin": null,
            "max_height": null,
            "max_width": null,
            "min_height": null,
            "min_width": null,
            "object_fit": null,
            "object_position": null,
            "order": null,
            "overflow": null,
            "overflow_x": null,
            "overflow_y": null,
            "padding": null,
            "right": null,
            "top": null,
            "visibility": null,
            "width": null
          }
        },
        "1e7ea58d5627423c8503a2491c29c50f": {
          "model_module": "@jupyter-widgets/controls",
          "model_name": "DescriptionStyleModel",
          "model_module_version": "1.5.0",
          "state": {
            "_model_module": "@jupyter-widgets/controls",
            "_model_module_version": "1.5.0",
            "_model_name": "DescriptionStyleModel",
            "_view_count": null,
            "_view_module": "@jupyter-widgets/base",
            "_view_module_version": "1.2.0",
            "_view_name": "StyleView",
            "description_width": ""
          }
        }
      }
    }
  },
  "cells": [
    {
      "cell_type": "markdown",
      "metadata": {
        "id": "view-in-github",
        "colab_type": "text"
      },
      "source": [
        "<a href=\"https://colab.research.google.com/github/imthelizardking/cmp719-project/blob/main/cmp719_project_5.ipynb\" target=\"_parent\"><img src=\"https://colab.research.google.com/assets/colab-badge.svg\" alt=\"Open In Colab\"/></a>"
      ]
    },
    {
      "cell_type": "markdown",
      "source": [
        "Main text"
      ],
      "metadata": {
        "id": "-ceqk4KZuraO"
      }
    },
    {
      "cell_type": "markdown",
      "source": [
        "Mount gdrive for saving weights etc."
      ],
      "metadata": {
        "id": "q1NDzwFXuszW"
      }
    },
    {
      "cell_type": "code",
      "source": [
        "from google.colab import drive\n",
        "drive.mount('/content/drive/')\n",
        "!cd '/content/drive/MyDrive'"
      ],
      "metadata": {
        "id": "9-vEFh6prUQW",
        "colab": {
          "base_uri": "https://localhost:8080/"
        },
        "outputId": "e488b914-d4d4-41f0-e361-0256a4d0b7f3"
      },
      "execution_count": 14,
      "outputs": [
        {
          "output_type": "stream",
          "name": "stdout",
          "text": [
            "Drive already mounted at /content/drive/; to attempt to forcibly remount, call drive.mount(\"/content/drive/\", force_remount=True).\n"
          ]
        }
      ]
    },
    {
      "cell_type": "markdown",
      "source": [
        "Import required packages"
      ],
      "metadata": {
        "id": "6hRERpdouwyw"
      }
    },
    {
      "cell_type": "code",
      "execution_count": 15,
      "metadata": {
        "id": "ua7XRff-OG-R",
        "outputId": "3a82e5ec-9580-4f3f-a453-d59dc7434d9b",
        "colab": {
          "base_uri": "https://localhost:8080/"
        }
      },
      "outputs": [
        {
          "output_type": "stream",
          "name": "stdout",
          "text": [
            "Requirement already satisfied: torch in /usr/local/lib/python3.10/dist-packages (2.0.1+cu118)\n",
            "Requirement already satisfied: torchvision in /usr/local/lib/python3.10/dist-packages (0.15.2+cu118)\n",
            "Requirement already satisfied: filelock in /usr/local/lib/python3.10/dist-packages (from torch) (3.12.2)\n",
            "Requirement already satisfied: typing-extensions in /usr/local/lib/python3.10/dist-packages (from torch) (4.6.3)\n",
            "Requirement already satisfied: sympy in /usr/local/lib/python3.10/dist-packages (from torch) (1.11.1)\n",
            "Requirement already satisfied: networkx in /usr/local/lib/python3.10/dist-packages (from torch) (3.1)\n",
            "Requirement already satisfied: jinja2 in /usr/local/lib/python3.10/dist-packages (from torch) (3.1.2)\n",
            "Requirement already satisfied: triton==2.0.0 in /usr/local/lib/python3.10/dist-packages (from torch) (2.0.0)\n",
            "Requirement already satisfied: cmake in /usr/local/lib/python3.10/dist-packages (from triton==2.0.0->torch) (3.25.2)\n",
            "Requirement already satisfied: lit in /usr/local/lib/python3.10/dist-packages (from triton==2.0.0->torch) (16.0.6)\n",
            "Requirement already satisfied: numpy in /usr/local/lib/python3.10/dist-packages (from torchvision) (1.22.4)\n",
            "Requirement already satisfied: requests in /usr/local/lib/python3.10/dist-packages (from torchvision) (2.27.1)\n",
            "Requirement already satisfied: pillow!=8.3.*,>=5.3.0 in /usr/local/lib/python3.10/dist-packages (from torchvision) (8.4.0)\n",
            "Requirement already satisfied: MarkupSafe>=2.0 in /usr/local/lib/python3.10/dist-packages (from jinja2->torch) (2.1.3)\n",
            "Requirement already satisfied: urllib3<1.27,>=1.21.1 in /usr/local/lib/python3.10/dist-packages (from requests->torchvision) (1.26.16)\n",
            "Requirement already satisfied: certifi>=2017.4.17 in /usr/local/lib/python3.10/dist-packages (from requests->torchvision) (2023.5.7)\n",
            "Requirement already satisfied: charset-normalizer~=2.0.0 in /usr/local/lib/python3.10/dist-packages (from requests->torchvision) (2.0.12)\n",
            "Requirement already satisfied: idna<4,>=2.5 in /usr/local/lib/python3.10/dist-packages (from requests->torchvision) (3.4)\n",
            "Requirement already satisfied: mpmath>=0.19 in /usr/local/lib/python3.10/dist-packages (from sympy->torch) (1.3.0)\n"
          ]
        }
      ],
      "source": [
        "!pip install torch torchvision\n",
        "import torch\n",
        "import torch.nn as nn\n",
        "import torch.optim as optim\n",
        "import torchvision\n",
        "import torchvision.transforms as transforms\n",
        "import matplotlib.pyplot as plt\n",
        "#import torch.nn.functional as F"
      ]
    },
    {
      "cell_type": "markdown",
      "source": [
        "ResNet-56 Model:"
      ],
      "metadata": {
        "id": "fp0wY1YCs9IO"
      }
    },
    {
      "cell_type": "code",
      "source": [
        "class BasicBlock(nn.Module):\n",
        "    def __init__(self, in_planes, planes, stride=1):\n",
        "        super(BasicBlock, self).__init__()\n",
        "        self.conv1 = nn.Conv2d(in_planes, planes, kernel_size=3, stride=stride, padding=1, bias=False)\n",
        "        self.bn1 = nn.BatchNorm2d(planes)\n",
        "        self.conv2 = nn.Conv2d(planes, planes, kernel_size=3, stride=1, padding=1, bias=False)\n",
        "        self.bn2 = nn.BatchNorm2d(planes)\n",
        "        self.relu = nn.ReLU()\n",
        "        self.shortcut = nn.Sequential()\n",
        "        if stride != 1 or in_planes != planes:\n",
        "            self.shortcut = nn.Sequential(\n",
        "                nn.Conv2d(in_planes, planes, kernel_size=1, stride=stride, bias=False),\n",
        "                nn.BatchNorm2d(planes)\n",
        "            )\n",
        "\n",
        "    def forward(self, x):\n",
        "        out = self.conv1(x)\n",
        "        out = self.bn1(out)\n",
        "        out = self.relu(out)\n",
        "        out = self.conv2(out)\n",
        "        out = self.bn2(out)\n",
        "        out += self.shortcut(x)  # Skip connection\n",
        "        out = self.relu(out)\n",
        "        return out\n",
        "\n",
        "class ResNet56(nn.Module):\n",
        "    def __init__(self, num_classes):\n",
        "        super(ResNet56, self).__init__()\n",
        "        self.in_planes = 16\n",
        "        self.conv1 = nn.Conv2d(3, 16, kernel_size=3, stride=1, padding=1, bias=False)\n",
        "        self.bn1 = nn.BatchNorm2d(16)\n",
        "        self.layer1 = self._make_layer(16, 9, stride=1)\n",
        "        self.layer2 = self._make_layer(32, 9, stride=2)\n",
        "        self.layer3 = self._make_layer(64, 9, stride=2)\n",
        "        self.linear = nn.Linear(64, num_classes)\n",
        "\n",
        "    def _make_layer(self, planes, num_blocks, stride):\n",
        "        strides = [stride] + [1] * (num_blocks - 1)\n",
        "        layers = []\n",
        "        for stride in strides:\n",
        "            layers.append(BasicBlock(self.in_planes, planes, stride))\n",
        "            self.in_planes = planes\n",
        "        return nn.Sequential(*layers)\n",
        "\n",
        "    def forward(self, x):\n",
        "        out = self.conv1(x)\n",
        "        out = self.bn1(out)\n",
        "        out = nn.ReLU()(out)\n",
        "        out = self.layer1(out)\n",
        "        out = self.layer2(out)\n",
        "        out = self.layer3(out)\n",
        "        out = nn.AdaptiveAvgPool2d(1)(out)\n",
        "        out = torch.flatten(out, 1)\n",
        "        out = self.linear(out)\n",
        "        return out"
      ],
      "metadata": {
        "id": "vQoHFy4iPJIn"
      },
      "execution_count": null,
      "outputs": []
    },
    {
      "cell_type": "markdown",
      "source": [
        "Set configuration for training ResNet-56 w/ cifar-100:"
      ],
      "metadata": {
        "id": "A3a-YsRwu0_w"
      }
    },
    {
      "cell_type": "code",
      "source": [
        "# Set device to GPU if available, otherwise use CPU\n",
        "device = torch.device(\"cuda\")\n",
        "\n",
        "custom_transform_train = transforms.Compose([\n",
        "    transforms.RandomCrop(32, padding=4),\n",
        "    transforms.RandomHorizontalFlip(),\n",
        "    transforms.ToTensor(),\n",
        "    transforms.Normalize(mean=[0.5, 0.5, 0.5], std=[0.5, 0.5, 0.5])\n",
        "])\n",
        "\n",
        "custom_transform_test = transforms.Compose([\n",
        "    transforms.ToTensor(),\n",
        "    transforms.Normalize(mean=[0.5, 0.5, 0.5], std=[0.5, 0.5, 0.5])\n",
        "])\n",
        "\n",
        "# Load CIFAR-100 dataset\n",
        "trainset = torchvision.datasets.CIFAR100(root='./data', train=True, download=True, transform=custom_transform_train)\n",
        "trainloader = torch.utils.data.DataLoader(trainset, batch_size=128, shuffle=True, num_workers=2)\n",
        "\n",
        "testset = torchvision.datasets.CIFAR100(root='./data', train=False, download=True, transform=custom_transform_test)\n",
        "testloader = torch.utils.data.DataLoader(testset, batch_size=128, shuffle=False, num_workers=2)"
      ],
      "metadata": {
        "colab": {
          "base_uri": "https://localhost:8080/"
        },
        "id": "yg55HD5COLmp",
        "outputId": "00d4e562-6d08-49f2-901d-3d20dd76064c"
      },
      "execution_count": 16,
      "outputs": [
        {
          "output_type": "stream",
          "name": "stdout",
          "text": [
            "Files already downloaded and verified\n",
            "Files already downloaded and verified\n"
          ]
        }
      ]
    },
    {
      "cell_type": "code",
      "source": [
        "# Create ResNet-56 model instance\n",
        "model_resnet56 = ResNet56(num_classes=100).to(device)\n",
        "\n",
        "# Define loss function and optimizer\n",
        "criterion = nn.CrossEntropyLoss()\n",
        "EPOCHS_RESNET56 = 100\n",
        "LEARNING_RATE_RESNET56 = 0.001\n",
        "optimizer = optim.AdamW(model_resnet56.parameters(), lr=LEARNING_RATE_RESNET56)"
      ],
      "metadata": {
        "id": "5tGvSvJBvMyS"
      },
      "execution_count": null,
      "outputs": []
    },
    {
      "cell_type": "markdown",
      "source": [
        "Train ResNet-56 w/ cifar-100"
      ],
      "metadata": {
        "id": "0ScoZdfZu4F_"
      }
    },
    {
      "cell_type": "code",
      "source": [
        "# Training loop\n",
        "train_losses = []\n",
        "train_accuracies = []\n",
        "test_losses = []\n",
        "test_accuracies = []\n",
        "for epoch in range(EPOCHS_RESNET56):  # Number of epochs\n",
        "    model_resnet56.train()\n",
        "    train_loss = 0\n",
        "    train_accuracy = 0\n",
        "    test_loss = 0\n",
        "    test_accuracy = 0\n",
        "    for i, data in enumerate(trainloader, 0):\n",
        "        inputs, labels = data[0].to(device), data[1].to(device)\n",
        "        optimizer.zero_grad()\n",
        "        # Forward pass\n",
        "        outputs = model_resnet56(inputs)\n",
        "        loss = criterion(outputs, labels)\n",
        "        # Backward pass and optimization\n",
        "        loss.backward()\n",
        "        optimizer.step()\n",
        "        train_loss += loss.item()\n",
        "    print('#', epoch+1, ' epoch train loss: ', train_loss / len(trainloader))\n",
        "    train_losses.append(train_loss / len(trainloader))\n",
        "    # Validation\n",
        "    model_resnet56.eval()\n",
        "    correct = 0\n",
        "    total = 0\n",
        "    torch._to_functional_tensor = 0\n",
        "    with torch.no_grad():\n",
        "        for data in trainloader:\n",
        "            images, labels = data[0].to(device), data[1].to(device)\n",
        "            outputs = model_resnet56(images)\n",
        "            _, predicted = torch.max(outputs.data, 1)\n",
        "            total += labels.size(0)\n",
        "            correct += (predicted == labels).sum().item()\n",
        "    train_accuracy = 100 * correct / total\n",
        "    train_accuracies.append(train_accuracy)\n",
        "    print('Accuracy on training set after epoch %d: %.2f %%' % (epoch + 1, train_accuracy))\n",
        "    correct = 0\n",
        "    total = 0\n",
        "    with torch.no_grad():\n",
        "        for data in testloader:\n",
        "            images, labels = data[0].to(device), data[1].to(device)\n",
        "            outputs = model_resnet56(images)\n",
        "            loss = criterion(outputs, labels)\n",
        "            test_loss += loss.item()\n",
        "            _, predicted = torch.max(outputs.data, 1)\n",
        "            total += labels.size(0)\n",
        "            correct += (predicted == labels).sum().item()\n",
        "    test_loss = test_loss / len(testloader)\n",
        "    test_losses.append(test_loss / len(testloader))\n",
        "    test_accuracy = 100 * correct / total\n",
        "    test_accuracies.append(test_accuracy)\n",
        "    print('Accuracy on test set after epoch %d: %.2f %%' % (epoch + 1, test_accuracy))\n",
        "print('Training finished.')"
      ],
      "metadata": {
        "colab": {
          "base_uri": "https://localhost:8080/"
        },
        "id": "sIMt9YZWqFX7",
        "outputId": "5ccf8c98-f4ff-4a2c-a6ac-ad9304074b64"
      },
      "execution_count": null,
      "outputs": [
        {
          "output_type": "stream",
          "name": "stdout",
          "text": [
            "# 1  epoch train loss:  4.0852354011877114\n",
            "Accuracy on training set after epoch 1: 10.36 %\n",
            "Accuracy on test set after epoch 1: 10.53 %\n",
            "# 2  epoch train loss:  3.530381202697754\n",
            "Accuracy on training set after epoch 2: 16.37 %\n",
            "Accuracy on test set after epoch 2: 17.01 %\n",
            "# 3  epoch train loss:  3.0837778356069188\n",
            "Accuracy on training set after epoch 3: 22.16 %\n",
            "Accuracy on test set after epoch 3: 22.76 %\n",
            "# 4  epoch train loss:  2.7740204767193024\n",
            "Accuracy on training set after epoch 4: 27.05 %\n",
            "Accuracy on test set after epoch 4: 26.20 %\n",
            "# 5  epoch train loss:  2.519889972398958\n",
            "Accuracy on training set after epoch 5: 34.25 %\n",
            "Accuracy on test set after epoch 5: 33.95 %\n",
            "# 6  epoch train loss:  2.3221513328649808\n",
            "Accuracy on training set after epoch 6: 38.46 %\n",
            "Accuracy on test set after epoch 6: 38.44 %\n",
            "# 7  epoch train loss:  2.1522134591246505\n",
            "Accuracy on training set after epoch 7: 41.64 %\n",
            "Accuracy on test set after epoch 7: 40.53 %\n",
            "# 8  epoch train loss:  2.0246778647308155\n",
            "Accuracy on training set after epoch 8: 43.26 %\n",
            "Accuracy on test set after epoch 8: 42.25 %\n",
            "# 9  epoch train loss:  1.9122606073803914\n",
            "Accuracy on training set after epoch 9: 46.09 %\n",
            "Accuracy on test set after epoch 9: 43.43 %\n",
            "# 10  epoch train loss:  1.8023906741910578\n",
            "Accuracy on training set after epoch 10: 50.35 %\n",
            "Accuracy on test set after epoch 10: 47.22 %\n",
            "# 11  epoch train loss:  1.7242434485184261\n",
            "Accuracy on training set after epoch 11: 50.67 %\n",
            "Accuracy on test set after epoch 11: 46.86 %\n",
            "# 12  epoch train loss:  1.641511258566776\n"
          ]
        },
        {
          "output_type": "stream",
          "name": "stderr",
          "text": [
            "Exception ignored in: <function _MultiProcessingDataLoaderIter.__del__ at 0x7ff3fc75c670>\n",
            "Traceback (most recent call last):\n",
            "  File \"/usr/local/lib/python3.10/dist-packages/torch/utils/data/dataloader.py\", line 1478, in __del__\n",
            "    self._shutdown_workers()\n",
            "  File \"/usr/local/lib/python3.10/dist-packages/torch/utils/data/dataloader.py\", line 1461, in _shutdown_workers\n",
            "    if w.is_alive():\n",
            "  File \"/usr/lib/python3.10/multiprocessing/process.py\", line 160, in is_alive\n",
            "    assert self._parent_pid == os.getpid(), 'can only test a child process'\n",
            "AssertionError: can only test a child process\n",
            "Exception ignored in: <function _MultiProcessingDataLoaderIter.__del__ at 0x7ff3fc75c670>\n",
            "Traceback (most recent call last):\n",
            "  File \"/usr/local/lib/python3.10/dist-packages/torch/utils/data/dataloader.py\", line 1478, in __del__\n",
            "    self._shutdown_workers()\n",
            "  File \"/usr/local/lib/python3.10/dist-packages/torch/utils/data/dataloader.py\", line 1461, in _shutdown_workers\n",
            "    if w.is_alive():\n",
            "  File \"/usr/lib/python3.10/multiprocessing/process.py\", line 160, in is_alive\n",
            "    assert self._parent_pid == os.getpid(), 'can only test a child process'\n",
            "AssertionError: can only test a child process\n"
          ]
        },
        {
          "output_type": "stream",
          "name": "stdout",
          "text": [
            "Accuracy on training set after epoch 12: 52.32 %\n",
            "Accuracy on test set after epoch 12: 49.02 %\n"
          ]
        },
        {
          "output_type": "stream",
          "name": "stderr",
          "text": [
            "Exception ignored in: <function _MultiProcessingDataLoaderIter.__del__ at 0x7ff3fc75c670>\n",
            "Traceback (most recent call last):\n",
            "  File \"/usr/local/lib/python3.10/dist-packages/torch/utils/data/dataloader.py\", line 1478, in __del__\n",
            "    self._shutdown_workers()\n",
            "  File \"/usr/local/lib/python3.10/dist-packages/torch/utils/data/dataloader.py\", line 1461, in _shutdown_workers\n",
            "    if w.is_alive():\n",
            "  File \"/usr/lib/python3.10/multiprocessing/process.py\", line 160, in is_alive\n",
            "assert self._parent_pid == os.getpid(), 'can only test a child process'    \n",
            "AssertionError: can only test a child process\n",
            "Exception ignored in: <function _MultiProcessingDataLoaderIter.__del__ at 0x7ff3fc75c670>\n",
            "Traceback (most recent call last):\n",
            "  File \"/usr/local/lib/python3.10/dist-packages/torch/utils/data/dataloader.py\", line 1478, in __del__\n",
            "    self._shutdown_workers()\n",
            "  File \"/usr/local/lib/python3.10/dist-packages/torch/utils/data/dataloader.py\", line 1461, in _shutdown_workers\n",
            "    if w.is_alive():\n",
            "  File \"/usr/lib/python3.10/multiprocessing/process.py\", line 160, in is_alive\n",
            "    assert self._parent_pid == os.getpid(), 'can only test a child process'\n",
            "AssertionError: can only test a child process\n"
          ]
        },
        {
          "output_type": "stream",
          "name": "stdout",
          "text": [
            "# 13  epoch train loss:  1.5782704078937735\n"
          ]
        },
        {
          "output_type": "stream",
          "name": "stderr",
          "text": [
            "Exception ignored in: <function _MultiProcessingDataLoaderIter.__del__ at 0x7ff3fc75c670>\n",
            "Traceback (most recent call last):\n",
            "  File \"/usr/local/lib/python3.10/dist-packages/torch/utils/data/dataloader.py\", line 1478, in __del__\n",
            "    self._shutdown_workers()\n",
            "  File \"/usr/local/lib/python3.10/dist-packages/torch/utils/data/dataloader.py\", line 1461, in _shutdown_workers\n",
            "    if w.is_alive():\n",
            "  File \"/usr/lib/python3.10/multiprocessing/process.py\", line 160, in is_alive\n",
            "    assert self._parent_pid == os.getpid(), 'can only test a child process'\n",
            "AssertionError: can only test a child process\n",
            "Exception ignored in: <function _MultiProcessingDataLoaderIter.__del__ at 0x7ff3fc75c670>\n",
            "Traceback (most recent call last):\n",
            "  File \"/usr/local/lib/python3.10/dist-packages/torch/utils/data/dataloader.py\", line 1478, in __del__\n",
            "    self._shutdown_workers()\n",
            "  File \"/usr/local/lib/python3.10/dist-packages/torch/utils/data/dataloader.py\", line 1461, in _shutdown_workers\n",
            "    if w.is_alive():\n",
            "  File \"/usr/lib/python3.10/multiprocessing/process.py\", line 160, in is_alive\n",
            "    assert self._parent_pid == os.getpid(), 'can only test a child process'\n",
            "AssertionError: can only test a child process\n"
          ]
        },
        {
          "output_type": "stream",
          "name": "stdout",
          "text": [
            "Accuracy on training set after epoch 13: 57.52 %\n",
            "Accuracy on test set after epoch 13: 52.68 %\n"
          ]
        },
        {
          "output_type": "stream",
          "name": "stderr",
          "text": [
            "Exception ignored in: <function _MultiProcessingDataLoaderIter.__del__ at 0x7ff3fc75c670>\n",
            "Traceback (most recent call last):\n",
            "  File \"/usr/local/lib/python3.10/dist-packages/torch/utils/data/dataloader.py\", line 1478, in __del__\n",
            "    self._shutdown_workers()\n",
            "  File \"/usr/local/lib/python3.10/dist-packages/torch/utils/data/dataloader.py\", line 1461, in _shutdown_workers\n",
            "    if w.is_alive():\n",
            "  File \"/usr/lib/python3.10/multiprocessing/process.py\", line 160, in is_alive\n",
            "    assert self._parent_pid == os.getpid(), 'can only test a child process'\n",
            "AssertionError: can only test a child process\n",
            "Exception ignored in: <function _MultiProcessingDataLoaderIter.__del__ at 0x7ff3fc75c670>\n",
            "Traceback (most recent call last):\n",
            "  File \"/usr/local/lib/python3.10/dist-packages/torch/utils/data/dataloader.py\", line 1478, in __del__\n",
            "    self._shutdown_workers()\n",
            "  File \"/usr/local/lib/python3.10/dist-packages/torch/utils/data/dataloader.py\", line 1461, in _shutdown_workers\n",
            "    if w.is_alive():\n",
            "  File \"/usr/lib/python3.10/multiprocessing/process.py\", line 160, in is_alive\n",
            "    assert self._parent_pid == os.getpid(), 'can only test a child process'\n",
            "AssertionError: can only test a child process\n"
          ]
        },
        {
          "output_type": "stream",
          "name": "stdout",
          "text": [
            "# 14  epoch train loss:  1.5138856230489433\n"
          ]
        },
        {
          "output_type": "stream",
          "name": "stderr",
          "text": [
            "Exception ignored in: <function _MultiProcessingDataLoaderIter.__del__ at 0x7ff3fc75c670>\n",
            "Traceback (most recent call last):\n",
            "  File \"/usr/local/lib/python3.10/dist-packages/torch/utils/data/dataloader.py\", line 1478, in __del__\n",
            "    self._shutdown_workers()\n",
            "  File \"/usr/local/lib/python3.10/dist-packages/torch/utils/data/dataloader.py\", line 1461, in _shutdown_workers\n",
            "    if w.is_alive():\n",
            "  File \"/usr/lib/python3.10/multiprocessing/process.py\", line 160, in is_alive\n",
            "    assert self._parent_pid == os.getpid(), 'can only test a child process'\n",
            "AssertionError: can only test a child process\n",
            "Exception ignored in: <function _MultiProcessingDataLoaderIter.__del__ at 0x7ff3fc75c670>\n",
            "Traceback (most recent call last):\n",
            "  File \"/usr/local/lib/python3.10/dist-packages/torch/utils/data/dataloader.py\", line 1478, in __del__\n",
            "    self._shutdown_workers()\n",
            "  File \"/usr/local/lib/python3.10/dist-packages/torch/utils/data/dataloader.py\", line 1461, in _shutdown_workers\n",
            "    if w.is_alive():\n",
            "  File \"/usr/lib/python3.10/multiprocessing/process.py\", line 160, in is_alive\n",
            "    assert self._parent_pid == os.getpid(), 'can only test a child process'\n",
            "AssertionError: can only test a child process\n"
          ]
        },
        {
          "output_type": "stream",
          "name": "stdout",
          "text": [
            "Accuracy on training set after epoch 14: 57.77 %\n",
            "Accuracy on test set after epoch 14: 53.21 %\n"
          ]
        },
        {
          "output_type": "stream",
          "name": "stderr",
          "text": [
            "Exception ignored in: <function _MultiProcessingDataLoaderIter.__del__ at 0x7ff3fc75c670>\n",
            "Traceback (most recent call last):\n",
            "  File \"/usr/local/lib/python3.10/dist-packages/torch/utils/data/dataloader.py\", line 1478, in __del__\n",
            "    self._shutdown_workers()\n",
            "  File \"/usr/local/lib/python3.10/dist-packages/torch/utils/data/dataloader.py\", line 1461, in _shutdown_workers\n",
            "    if w.is_alive():\n",
            "  File \"/usr/lib/python3.10/multiprocessing/process.py\", line 160, in is_alive\n",
            "    \n",
            "assert self._parent_pid == os.getpid(), 'can only test a child process'\n",
            "AssertionError: can only test a child processException ignored in: <function _MultiProcessingDataLoaderIter.__del__ at 0x7ff3fc75c670>\n",
            "Traceback (most recent call last):\n",
            "  File \"/usr/local/lib/python3.10/dist-packages/torch/utils/data/dataloader.py\", line 1478, in __del__\n",
            "    self._shutdown_workers()\n",
            "  File \"/usr/local/lib/python3.10/dist-packages/torch/utils/data/dataloader.py\", line 1461, in _shutdown_workers\n",
            "    if w.is_alive():\n",
            "  File \"/usr/lib/python3.10/multiprocessing/process.py\", line 160, in is_alive\n",
            "    assert self._parent_pid == os.getpid(), 'can only test a child process'\n",
            "AssertionError: can only test a child process\n"
          ]
        },
        {
          "output_type": "stream",
          "name": "stdout",
          "text": [
            "# 15  epoch train loss:  1.459781635142958\n"
          ]
        },
        {
          "output_type": "stream",
          "name": "stderr",
          "text": [
            "Exception ignored in: <function _MultiProcessingDataLoaderIter.__del__ at 0x7ff3fc75c670>\n",
            "Traceback (most recent call last):\n",
            "  File \"/usr/local/lib/python3.10/dist-packages/torch/utils/data/dataloader.py\", line 1478, in __del__\n",
            "    self._shutdown_workers()\n",
            "  File \"/usr/local/lib/python3.10/dist-packages/torch/utils/data/dataloader.py\", line 1461, in _shutdown_workers\n",
            "    if w.is_alive():\n",
            "  File \"/usr/lib/python3.10/multiprocessing/process.py\", line 160, in is_alive\n",
            "    assert self._parent_pid == os.getpid(), 'can only test a child process'\n",
            "AssertionError: can only test a child process\n",
            "Exception ignored in: <function _MultiProcessingDataLoaderIter.__del__ at 0x7ff3fc75c670>\n",
            "Traceback (most recent call last):\n",
            "  File \"/usr/local/lib/python3.10/dist-packages/torch/utils/data/dataloader.py\", line 1478, in __del__\n",
            "    self._shutdown_workers()\n",
            "  File \"/usr/local/lib/python3.10/dist-packages/torch/utils/data/dataloader.py\", line 1461, in _shutdown_workers\n",
            "    if w.is_alive():\n",
            "  File \"/usr/lib/python3.10/multiprocessing/process.py\", line 160, in is_alive\n",
            "    assert self._parent_pid == os.getpid(), 'can only test a child process'\n",
            "AssertionError: can only test a child process\n"
          ]
        },
        {
          "output_type": "stream",
          "name": "stdout",
          "text": [
            "Accuracy on training set after epoch 15: 57.22 %\n",
            "Accuracy on test set after epoch 15: 52.71 %\n"
          ]
        },
        {
          "output_type": "stream",
          "name": "stderr",
          "text": [
            "Exception ignored in: <function _MultiProcessingDataLoaderIter.__del__ at 0x7ff3fc75c670>\n",
            "Traceback (most recent call last):\n",
            "  File \"/usr/local/lib/python3.10/dist-packages/torch/utils/data/dataloader.py\", line 1478, in __del__\n",
            "    self._shutdown_workers()\n",
            "  File \"/usr/local/lib/python3.10/dist-packages/torch/utils/data/dataloader.py\", line 1461, in _shutdown_workers\n",
            "    if w.is_alive():\n",
            "  File \"/usr/lib/python3.10/multiprocessing/process.py\", line 160, in is_alive\n",
            "    assert self._parent_pid == os.getpid(), 'can only test a child process'\n",
            "AssertionError: can only test a child process\n",
            "Exception ignored in: <function _MultiProcessingDataLoaderIter.__del__ at 0x7ff3fc75c670>\n",
            "Traceback (most recent call last):\n",
            "  File \"/usr/local/lib/python3.10/dist-packages/torch/utils/data/dataloader.py\", line 1478, in __del__\n",
            "    self._shutdown_workers()\n",
            "  File \"/usr/local/lib/python3.10/dist-packages/torch/utils/data/dataloader.py\", line 1461, in _shutdown_workers\n",
            "    if w.is_alive():\n",
            "  File \"/usr/lib/python3.10/multiprocessing/process.py\", line 160, in is_alive\n",
            "    assert self._parent_pid == os.getpid(), 'can only test a child process'\n",
            "AssertionError: can only test a child process\n"
          ]
        },
        {
          "output_type": "stream",
          "name": "stdout",
          "text": [
            "# 16  epoch train loss:  1.4081135314443838\n"
          ]
        },
        {
          "output_type": "stream",
          "name": "stderr",
          "text": [
            "Exception ignored in: <function _MultiProcessingDataLoaderIter.__del__ at 0x7ff3fc75c670>\n",
            "Traceback (most recent call last):\n",
            "  File \"/usr/local/lib/python3.10/dist-packages/torch/utils/data/dataloader.py\", line 1478, in __del__\n",
            "    self._shutdown_workers()\n",
            "  File \"/usr/local/lib/python3.10/dist-packages/torch/utils/data/dataloader.py\", line 1461, in _shutdown_workers\n",
            "    if w.is_alive():\n",
            "  File \"/usr/lib/python3.10/multiprocessing/process.py\", line 160, in is_alive\n",
            "Exception ignored in: <function _MultiProcessingDataLoaderIter.__del__ at 0x7ff3fc75c670>\n",
            "    assert self._parent_pid == os.getpid(), 'can only test a child process'\n",
            "Traceback (most recent call last):\n",
            "  File \"/usr/local/lib/python3.10/dist-packages/torch/utils/data/dataloader.py\", line 1478, in __del__\n",
            "    AssertionError: self._shutdown_workers()\n",
            "can only test a child process  File \"/usr/local/lib/python3.10/dist-packages/torch/utils/data/dataloader.py\", line 1461, in _shutdown_workers\n",
            "\n",
            "    if w.is_alive():\n",
            "  File \"/usr/lib/python3.10/multiprocessing/process.py\", line 160, in is_alive\n",
            "    assert self._parent_pid == os.getpid(), 'can only test a child process'\n",
            "AssertionError: can only test a child process\n"
          ]
        },
        {
          "output_type": "stream",
          "name": "stdout",
          "text": [
            "Accuracy on training set after epoch 16: 57.71 %\n",
            "Accuracy on test set after epoch 16: 51.63 %\n"
          ]
        },
        {
          "output_type": "stream",
          "name": "stderr",
          "text": [
            "Exception ignored in: <function _MultiProcessingDataLoaderIter.__del__ at 0x7ff3fc75c670>\n",
            "Traceback (most recent call last):\n",
            "  File \"/usr/local/lib/python3.10/dist-packages/torch/utils/data/dataloader.py\", line 1478, in __del__\n",
            "    self._shutdown_workers()\n",
            "  File \"/usr/local/lib/python3.10/dist-packages/torch/utils/data/dataloader.py\", line 1461, in _shutdown_workers\n",
            "    if w.is_alive():\n",
            "  File \"/usr/lib/python3.10/multiprocessing/process.py\", line 160, in is_alive\n",
            "    assert self._parent_pid == os.getpid(), 'can only test a child process'\n",
            "AssertionError: can only test a child process\n",
            "Exception ignored in: <function _MultiProcessingDataLoaderIter.__del__ at 0x7ff3fc75c670>\n",
            "Traceback (most recent call last):\n",
            "  File \"/usr/local/lib/python3.10/dist-packages/torch/utils/data/dataloader.py\", line 1478, in __del__\n",
            "    self._shutdown_workers()\n",
            "  File \"/usr/local/lib/python3.10/dist-packages/torch/utils/data/dataloader.py\", line 1461, in _shutdown_workers\n",
            "    if w.is_alive():\n",
            "  File \"/usr/lib/python3.10/multiprocessing/process.py\", line 160, in is_alive\n",
            "    assert self._parent_pid == os.getpid(), 'can only test a child process'\n",
            "AssertionError: can only test a child process\n"
          ]
        },
        {
          "output_type": "stream",
          "name": "stdout",
          "text": [
            "# 17  epoch train loss:  1.36586770407684\n"
          ]
        },
        {
          "output_type": "stream",
          "name": "stderr",
          "text": [
            "Exception ignored in: <function _MultiProcessingDataLoaderIter.__del__ at 0x7ff3fc75c670>\n",
            "Traceback (most recent call last):\n",
            "  File \"/usr/local/lib/python3.10/dist-packages/torch/utils/data/dataloader.py\", line 1478, in __del__\n",
            "    self._shutdown_workers()\n",
            "  File \"/usr/local/lib/python3.10/dist-packages/torch/utils/data/dataloader.py\", line 1461, in _shutdown_workers\n",
            "    Exception ignored in: <function _MultiProcessingDataLoaderIter.__del__ at 0x7ff3fc75c670>if w.is_alive():\n",
            "Traceback (most recent call last):\n",
            "\n",
            "  File \"/usr/local/lib/python3.10/dist-packages/torch/utils/data/dataloader.py\", line 1478, in __del__\n",
            "    self._shutdown_workers()\n",
            "  File \"/usr/local/lib/python3.10/dist-packages/torch/utils/data/dataloader.py\", line 1461, in _shutdown_workers\n",
            "      File \"/usr/lib/python3.10/multiprocessing/process.py\", line 160, in is_alive\n",
            "if w.is_alive():    assert self._parent_pid == os.getpid(), 'can only test a child process'\n",
            "\n",
            "  File \"/usr/lib/python3.10/multiprocessing/process.py\", line 160, in is_alive\n",
            "    assert self._parent_pid == os.getpid(), 'can only test a child process'\n",
            "AssertionError\n",
            ": AssertionErrorcan only test a child process: can only test a child process\n"
          ]
        },
        {
          "output_type": "stream",
          "name": "stdout",
          "text": [
            "Accuracy on training set after epoch 17: 60.77 %\n",
            "Accuracy on test set after epoch 17: 55.49 %\n"
          ]
        },
        {
          "output_type": "stream",
          "name": "stderr",
          "text": [
            "Exception ignored in: <function _MultiProcessingDataLoaderIter.__del__ at 0x7ff3fc75c670>\n",
            "Traceback (most recent call last):\n",
            "  File \"/usr/local/lib/python3.10/dist-packages/torch/utils/data/dataloader.py\", line 1478, in __del__\n",
            "    self._shutdown_workers()\n",
            "  File \"/usr/local/lib/python3.10/dist-packages/torch/utils/data/dataloader.py\", line 1461, in _shutdown_workers\n",
            "    if w.is_alive():\n",
            "  File \"/usr/lib/python3.10/multiprocessing/process.py\", line 160, in is_alive\n",
            "    assert self._parent_pid == os.getpid(), 'can only test a child process'\n",
            "AssertionError: can only test a child process\n",
            "Exception ignored in: <function _MultiProcessingDataLoaderIter.__del__ at 0x7ff3fc75c670>\n",
            "Traceback (most recent call last):\n",
            "  File \"/usr/local/lib/python3.10/dist-packages/torch/utils/data/dataloader.py\", line 1478, in __del__\n",
            "    self._shutdown_workers()\n",
            "  File \"/usr/local/lib/python3.10/dist-packages/torch/utils/data/dataloader.py\", line 1461, in _shutdown_workers\n",
            "    if w.is_alive():\n",
            "  File \"/usr/lib/python3.10/multiprocessing/process.py\", line 160, in is_alive\n",
            "    assert self._parent_pid == os.getpid(), 'can only test a child process'\n",
            "AssertionError: can only test a child process\n"
          ]
        },
        {
          "output_type": "stream",
          "name": "stdout",
          "text": [
            "# 18  epoch train loss:  1.3172995553297155\n"
          ]
        },
        {
          "output_type": "stream",
          "name": "stderr",
          "text": [
            "Exception ignored in: <function _MultiProcessingDataLoaderIter.__del__ at 0x7ff3fc75c670>\n",
            "Traceback (most recent call last):\n",
            "  File \"/usr/local/lib/python3.10/dist-packages/torch/utils/data/dataloader.py\", line 1478, in __del__\n",
            "    self._shutdown_workers()  File \"/usr/lib/python3.10/multiprocessing/process.py\", line 160, in is_alive\n",
            "\n",
            "  File \"/usr/local/lib/python3.10/dist-packages/torch/utils/data/dataloader.py\", line 1461, in _shutdown_workers\n",
            "    if w.is_alive():\n",
            "    assert self._parent_pid == os.getpid(), 'can only test a child process'\n",
            "AssertionError: can only test a child process\n",
            "Exception ignored in: <function _MultiProcessingDataLoaderIter.__del__ at 0x7ff3fc75c670>\n",
            "Traceback (most recent call last):\n",
            "  File \"/usr/local/lib/python3.10/dist-packages/torch/utils/data/dataloader.py\", line 1478, in __del__\n",
            "    self._shutdown_workers()\n",
            "  File \"/usr/local/lib/python3.10/dist-packages/torch/utils/data/dataloader.py\", line 1461, in _shutdown_workers\n",
            "    if w.is_alive():\n",
            "  File \"/usr/lib/python3.10/multiprocessing/process.py\", line 160, in is_alive\n",
            "    assert self._parent_pid == os.getpid(), 'can only test a child process'\n",
            "AssertionError: can only test a child process\n"
          ]
        },
        {
          "output_type": "stream",
          "name": "stdout",
          "text": [
            "Accuracy on training set after epoch 18: 61.31 %\n"
          ]
        },
        {
          "output_type": "stream",
          "name": "stderr",
          "text": [
            "Exception ignored in: <function _MultiProcessingDataLoaderIter.__del__ at 0x7ff3fc75c670>\n",
            "Traceback (most recent call last):\n",
            "  File \"/usr/local/lib/python3.10/dist-packages/torch/utils/data/dataloader.py\", line 1478, in __del__\n",
            "    self._shutdown_workers()\n",
            "  File \"/usr/local/lib/python3.10/dist-packages/torch/utils/data/dataloader.py\", line 1461, in _shutdown_workers\n",
            "    if w.is_alive():\n",
            "Exception ignored in:   File \"/usr/lib/python3.10/multiprocessing/process.py\", line 160, in is_alive\n",
            "<function _MultiProcessingDataLoaderIter.__del__ at 0x7ff3fc75c670>\n",
            "Traceback (most recent call last):\n",
            "  File \"/usr/local/lib/python3.10/dist-packages/torch/utils/data/dataloader.py\", line 1478, in __del__\n",
            "        self._shutdown_workers()\n",
            "assert self._parent_pid == os.getpid(), 'can only test a child process'  File \"/usr/local/lib/python3.10/dist-packages/torch/utils/data/dataloader.py\", line 1461, in _shutdown_workers\n",
            "\n",
            "AssertionError:     can only test a child processif w.is_alive():\n",
            "\n",
            "  File \"/usr/lib/python3.10/multiprocessing/process.py\", line 160, in is_alive\n",
            "    assert self._parent_pid == os.getpid(), 'can only test a child process'\n",
            "AssertionError: can only test a child process\n"
          ]
        },
        {
          "output_type": "stream",
          "name": "stdout",
          "text": [
            "Accuracy on test set after epoch 18: 54.96 %\n"
          ]
        },
        {
          "output_type": "stream",
          "name": "stderr",
          "text": [
            "Exception ignored in: <function _MultiProcessingDataLoaderIter.__del__ at 0x7ff3fc75c670>\n",
            "Traceback (most recent call last):\n",
            "  File \"/usr/local/lib/python3.10/dist-packages/torch/utils/data/dataloader.py\", line 1478, in __del__\n",
            "    self._shutdown_workers()\n",
            "  File \"/usr/local/lib/python3.10/dist-packages/torch/utils/data/dataloader.py\", line 1461, in _shutdown_workers\n",
            "    if w.is_alive():\n",
            "  File \"/usr/lib/python3.10/multiprocessing/process.py\", line 160, in is_alive\n",
            "    assert self._parent_pid == os.getpid(), 'can only test a child process'\n",
            "AssertionError: can only test a child processException ignored in: \n",
            "<function _MultiProcessingDataLoaderIter.__del__ at 0x7ff3fc75c670>\n",
            "Traceback (most recent call last):\n",
            "  File \"/usr/local/lib/python3.10/dist-packages/torch/utils/data/dataloader.py\", line 1478, in __del__\n",
            "    self._shutdown_workers()\n",
            "  File \"/usr/local/lib/python3.10/dist-packages/torch/utils/data/dataloader.py\", line 1461, in _shutdown_workers\n",
            "    \n",
            "if w.is_alive():\n",
            "  File \"/usr/lib/python3.10/multiprocessing/process.py\", line 160, in is_alive\n",
            "    assert self._parent_pid == os.getpid(), 'can only test a child process'\n",
            "AssertionError: can only test a child process"
          ]
        },
        {
          "output_type": "stream",
          "name": "stdout",
          "text": [
            "# 19  epoch train loss:  1.2741037242857696\n"
          ]
        },
        {
          "output_type": "stream",
          "name": "stderr",
          "text": [
            "Exception ignored in: <function _MultiProcessingDataLoaderIter.__del__ at 0x7ff3fc75c670>\n",
            "Traceback (most recent call last):\n",
            "  File \"/usr/local/lib/python3.10/dist-packages/torch/utils/data/dataloader.py\", line 1478, in __del__\n",
            "    self._shutdown_workers()\n",
            "  File \"/usr/local/lib/python3.10/dist-packages/torch/utils/data/dataloader.py\", line 1461, in _shutdown_workers\n",
            "    if w.is_alive():\n",
            "  File \"/usr/lib/python3.10/multiprocessing/process.py\", line 160, in is_alive\n",
            "    assert self._parent_pid == os.getpid(), 'can only test a child process'\n",
            "AssertionError: can only test a child process\n",
            "Exception ignored in: <function _MultiProcessingDataLoaderIter.__del__ at 0x7ff3fc75c670>\n",
            "Traceback (most recent call last):\n",
            "  File \"/usr/local/lib/python3.10/dist-packages/torch/utils/data/dataloader.py\", line 1478, in __del__\n",
            "    self._shutdown_workers()\n",
            "  File \"/usr/local/lib/python3.10/dist-packages/torch/utils/data/dataloader.py\", line 1461, in _shutdown_workers\n",
            "    if w.is_alive():\n",
            "  File \"/usr/lib/python3.10/multiprocessing/process.py\", line 160, in is_alive\n",
            "    assert self._parent_pid == os.getpid(), 'can only test a child process'\n",
            "AssertionError: can only test a child process\n"
          ]
        },
        {
          "output_type": "stream",
          "name": "stdout",
          "text": [
            "Accuracy on training set after epoch 19: 59.41 %\n"
          ]
        },
        {
          "output_type": "stream",
          "name": "stderr",
          "text": [
            "Exception ignored in: <function _MultiProcessingDataLoaderIter.__del__ at 0x7ff3fc75c670>Exception ignored in: \n",
            "<function _MultiProcessingDataLoaderIter.__del__ at 0x7ff3fc75c670>Traceback (most recent call last):\n",
            "\n",
            "  File \"/usr/local/lib/python3.10/dist-packages/torch/utils/data/dataloader.py\", line 1478, in __del__\n",
            "Traceback (most recent call last):\n",
            "    self._shutdown_workers()  File \"/usr/local/lib/python3.10/dist-packages/torch/utils/data/dataloader.py\", line 1478, in __del__\n",
            "    \n",
            "  File \"/usr/local/lib/python3.10/dist-packages/torch/utils/data/dataloader.py\", line 1461, in _shutdown_workers\n",
            "self._shutdown_workers()\n",
            "  File \"/usr/local/lib/python3.10/dist-packages/torch/utils/data/dataloader.py\", line 1461, in _shutdown_workers\n",
            "        if w.is_alive():if w.is_alive():\n",
            "  File \"/usr/lib/python3.10/multiprocessing/process.py\", line 160, in is_alive\n",
            "\n",
            "  File \"/usr/lib/python3.10/multiprocessing/process.py\", line 160, in is_alive\n",
            "    assert self._parent_pid == os.getpid(), 'can only test a child process'    assert self._parent_pid == os.getpid(), 'can only test a child process'\n",
            "\n",
            "AssertionErrorAssertionError: : can only test a child processcan only test a child process\n",
            "\n"
          ]
        },
        {
          "output_type": "stream",
          "name": "stdout",
          "text": [
            "Accuracy on test set after epoch 19: 52.63 %\n"
          ]
        },
        {
          "output_type": "stream",
          "name": "stderr",
          "text": [
            "Exception ignored in: <function _MultiProcessingDataLoaderIter.__del__ at 0x7ff3fc75c670>\n",
            "Traceback (most recent call last):\n",
            "  File \"/usr/local/lib/python3.10/dist-packages/torch/utils/data/dataloader.py\", line 1478, in __del__\n",
            "    self._shutdown_workers()\n",
            "  File \"/usr/local/lib/python3.10/dist-packages/torch/utils/data/dataloader.py\", line 1461, in _shutdown_workers\n",
            "    if w.is_alive():\n",
            "  File \"/usr/lib/python3.10/multiprocessing/process.py\", line 160, in is_alive\n",
            "    assert self._parent_pid == os.getpid(), 'can only test a child process'\n",
            "AssertionError: can only test a child process\n",
            "Exception ignored in: <function _MultiProcessingDataLoaderIter.__del__ at 0x7ff3fc75c670>\n",
            "Traceback (most recent call last):\n",
            "  File \"/usr/local/lib/python3.10/dist-packages/torch/utils/data/dataloader.py\", line 1478, in __del__\n",
            "    self._shutdown_workers()\n",
            "  File \"/usr/local/lib/python3.10/dist-packages/torch/utils/data/dataloader.py\", line 1461, in _shutdown_workers\n",
            "    if w.is_alive():\n",
            "  File \"/usr/lib/python3.10/multiprocessing/process.py\", line 160, in is_alive\n",
            "    assert self._parent_pid == os.getpid(), 'can only test a child process'\n",
            "AssertionError: can only test a child process\n"
          ]
        },
        {
          "output_type": "stream",
          "name": "stdout",
          "text": [
            "# 20  epoch train loss:  1.242159666917513\n",
            "Accuracy on training set after epoch 20: 63.54 %\n",
            "Accuracy on test set after epoch 20: 56.48 %\n",
            "# 21  epoch train loss:  1.1997913570355272\n",
            "Accuracy on training set after epoch 21: 62.26 %\n",
            "Accuracy on test set after epoch 21: 54.51 %\n",
            "# 22  epoch train loss:  1.1693617369207885\n",
            "Accuracy on training set after epoch 22: 64.69 %\n",
            "Accuracy on test set after epoch 22: 56.53 %\n",
            "# 23  epoch train loss:  1.1384695654025163\n",
            "Accuracy on training set after epoch 23: 66.13 %\n",
            "Accuracy on test set after epoch 23: 57.10 %\n",
            "# 24  epoch train loss:  1.1020908700230787\n",
            "Accuracy on training set after epoch 24: 67.93 %\n",
            "Accuracy on test set after epoch 24: 58.84 %\n",
            "# 25  epoch train loss:  1.0755139691445528\n",
            "Accuracy on training set after epoch 25: 67.90 %\n",
            "Accuracy on test set after epoch 25: 58.16 %\n",
            "# 26  epoch train loss:  1.0470760571377358\n",
            "Accuracy on training set after epoch 26: 66.74 %\n",
            "Accuracy on test set after epoch 26: 57.45 %\n",
            "# 27  epoch train loss:  1.014675085349461\n",
            "Accuracy on training set after epoch 27: 68.27 %\n",
            "Accuracy on test set after epoch 27: 58.42 %\n",
            "# 28  epoch train loss:  0.9962465374366097\n",
            "Accuracy on training set after epoch 28: 70.15 %\n",
            "Accuracy on test set after epoch 28: 59.10 %\n",
            "# 29  epoch train loss:  0.9722723753555961\n",
            "Accuracy on training set after epoch 29: 68.20 %\n",
            "Accuracy on test set after epoch 29: 58.13 %\n",
            "# 30  epoch train loss:  0.9473396440601105\n",
            "Accuracy on training set after epoch 30: 69.82 %\n",
            "Accuracy on test set after epoch 30: 59.02 %\n",
            "# 31  epoch train loss:  0.9206171377235667\n",
            "Accuracy on training set after epoch 31: 72.13 %\n",
            "Accuracy on test set after epoch 31: 60.24 %\n",
            "# 32  epoch train loss:  0.901320413098006\n",
            "Accuracy on training set after epoch 32: 74.37 %\n",
            "Accuracy on test set after epoch 32: 61.89 %\n",
            "# 33  epoch train loss:  0.8833385507773865\n",
            "Accuracy on training set after epoch 33: 73.61 %\n",
            "Accuracy on test set after epoch 33: 60.77 %\n",
            "# 34  epoch train loss:  0.8639434629389088\n",
            "Accuracy on training set after epoch 34: 73.51 %\n",
            "Accuracy on test set after epoch 34: 60.49 %\n",
            "# 35  epoch train loss:  0.8460385285679947\n",
            "Accuracy on training set after epoch 35: 73.89 %\n",
            "Accuracy on test set after epoch 35: 61.02 %\n",
            "# 36  epoch train loss:  0.8228986098638276\n",
            "Accuracy on training set after epoch 36: 73.31 %\n",
            "Accuracy on test set after epoch 36: 59.90 %\n",
            "# 37  epoch train loss:  0.8081170535453445\n",
            "Accuracy on training set after epoch 37: 72.03 %\n",
            "Accuracy on test set after epoch 37: 58.84 %\n",
            "# 38  epoch train loss:  0.7931868860026454\n",
            "Accuracy on training set after epoch 38: 75.62 %\n",
            "Accuracy on test set after epoch 38: 60.91 %\n",
            "# 39  epoch train loss:  0.7771788823330189\n",
            "Accuracy on training set after epoch 39: 70.49 %\n",
            "Accuracy on test set after epoch 39: 57.81 %\n",
            "# 40  epoch train loss:  0.7537155905952844\n",
            "Accuracy on training set after epoch 40: 77.12 %\n",
            "Accuracy on test set after epoch 40: 60.87 %\n",
            "# 41  epoch train loss:  0.7468092313507939\n",
            "Accuracy on training set after epoch 41: 77.61 %\n",
            "Accuracy on test set after epoch 41: 62.10 %\n",
            "# 42  epoch train loss:  0.7271125758700359\n",
            "Accuracy on training set after epoch 42: 79.20 %\n",
            "Accuracy on test set after epoch 42: 63.13 %\n",
            "# 43  epoch train loss:  0.713801271622748\n",
            "Accuracy on training set after epoch 43: 76.91 %\n",
            "Accuracy on test set after epoch 43: 62.05 %\n",
            "# 44  epoch train loss:  0.6881322795167908\n",
            "Accuracy on training set after epoch 44: 78.57 %\n",
            "Accuracy on test set after epoch 44: 61.79 %\n",
            "# 45  epoch train loss:  0.6833351041807239\n",
            "Accuracy on training set after epoch 45: 77.45 %\n",
            "Accuracy on test set after epoch 45: 61.47 %\n",
            "# 46  epoch train loss:  0.6776456149947613\n",
            "Accuracy on training set after epoch 46: 78.79 %\n",
            "Accuracy on test set after epoch 46: 62.03 %\n",
            "# 47  epoch train loss:  0.6604733078376107\n",
            "Accuracy on training set after epoch 47: 78.93 %\n",
            "Accuracy on test set after epoch 47: 61.31 %\n",
            "# 48  epoch train loss:  0.6474329384086687\n",
            "Accuracy on training set after epoch 48: 79.17 %\n",
            "Accuracy on test set after epoch 48: 61.70 %\n",
            "# 49  epoch train loss:  0.627788438745167\n",
            "Accuracy on training set after epoch 49: 79.35 %\n",
            "Accuracy on test set after epoch 49: 62.21 %\n",
            "# 50  epoch train loss:  0.6264702289763009\n",
            "Accuracy on training set after epoch 50: 79.66 %\n",
            "Accuracy on test set after epoch 50: 61.58 %\n",
            "# 51  epoch train loss:  0.6113781444251994\n",
            "Accuracy on training set after epoch 51: 82.08 %\n",
            "Accuracy on test set after epoch 51: 63.21 %\n",
            "# 52  epoch train loss:  0.6026302601980127\n",
            "Accuracy on training set after epoch 52: 80.73 %\n",
            "Accuracy on test set after epoch 52: 62.70 %\n",
            "# 53  epoch train loss:  0.5907188507602038\n",
            "Accuracy on training set after epoch 53: 80.98 %\n",
            "Accuracy on test set after epoch 53: 62.38 %\n",
            "# 54  epoch train loss:  0.5749059912493771\n",
            "Accuracy on training set after epoch 54: 82.94 %\n",
            "Accuracy on test set after epoch 54: 63.86 %\n",
            "# 55  epoch train loss:  0.5695130764828313\n",
            "Accuracy on training set after epoch 55: 80.14 %\n",
            "Accuracy on test set after epoch 55: 61.81 %\n",
            "# 56  epoch train loss:  0.5622193479476987\n",
            "Accuracy on training set after epoch 56: 81.69 %\n",
            "Accuracy on test set after epoch 56: 62.50 %\n",
            "# 57  epoch train loss:  0.5514562669617441\n",
            "Accuracy on training set after epoch 57: 82.78 %\n",
            "Accuracy on test set after epoch 57: 62.97 %\n",
            "# 58  epoch train loss:  0.5365376469424313\n",
            "Accuracy on training set after epoch 58: 83.44 %\n",
            "Accuracy on test set after epoch 58: 62.92 %\n",
            "# 59  epoch train loss:  0.5308402901720208\n",
            "Accuracy on training set after epoch 59: 84.39 %\n",
            "Accuracy on test set after epoch 59: 63.52 %\n",
            "# 60  epoch train loss:  0.5213038332931831\n",
            "Accuracy on training set after epoch 60: 82.90 %\n",
            "Accuracy on test set after epoch 60: 62.82 %\n",
            "# 61  epoch train loss:  0.5111117777998185\n",
            "Accuracy on training set after epoch 61: 82.10 %\n",
            "Accuracy on test set after epoch 61: 61.62 %\n",
            "# 62  epoch train loss:  0.5035984006226825\n",
            "Accuracy on training set after epoch 62: 83.91 %\n",
            "Accuracy on test set after epoch 62: 63.76 %\n",
            "# 63  epoch train loss:  0.5012617550999917\n",
            "Accuracy on training set after epoch 63: 83.51 %\n",
            "Accuracy on test set after epoch 63: 62.33 %\n",
            "# 64  epoch train loss:  0.48812798595489443\n",
            "Accuracy on training set after epoch 64: 84.00 %\n",
            "Accuracy on test set after epoch 64: 62.40 %\n",
            "# 65  epoch train loss:  0.4844743726046189\n",
            "Accuracy on training set after epoch 65: 83.89 %\n",
            "Accuracy on test set after epoch 65: 62.97 %\n",
            "# 66  epoch train loss:  0.47192451578881733\n",
            "Accuracy on training set after epoch 66: 84.58 %\n",
            "Accuracy on test set after epoch 66: 62.80 %\n",
            "# 67  epoch train loss:  0.4691678698334243\n",
            "Accuracy on training set after epoch 67: 86.59 %\n",
            "Accuracy on test set after epoch 67: 64.28 %\n",
            "# 68  epoch train loss:  0.45616468272703076\n",
            "Accuracy on training set after epoch 68: 84.88 %\n",
            "Accuracy on test set after epoch 68: 63.20 %\n",
            "# 69  epoch train loss:  0.45511800538548425\n",
            "Accuracy on training set after epoch 69: 84.76 %\n",
            "Accuracy on test set after epoch 69: 63.29 %\n",
            "# 70  epoch train loss:  0.4517921954774491\n",
            "Accuracy on training set after epoch 70: 85.17 %\n",
            "Accuracy on test set after epoch 70: 62.26 %\n",
            "# 71  epoch train loss:  0.4423758503802292\n",
            "Accuracy on training set after epoch 71: 84.77 %\n",
            "Accuracy on test set after epoch 71: 62.39 %\n",
            "# 72  epoch train loss:  0.4366304290187938\n",
            "Accuracy on training set after epoch 72: 84.34 %\n",
            "Accuracy on test set after epoch 72: 62.95 %\n",
            "# 73  epoch train loss:  0.43398983464064195\n",
            "Accuracy on training set after epoch 73: 84.36 %\n",
            "Accuracy on test set after epoch 73: 62.25 %\n",
            "# 74  epoch train loss:  0.4228935891100208\n",
            "Accuracy on training set after epoch 74: 86.43 %\n",
            "Accuracy on test set after epoch 74: 62.82 %\n",
            "# 75  epoch train loss:  0.4233888181883966\n",
            "Accuracy on training set after epoch 75: 86.27 %\n",
            "Accuracy on test set after epoch 75: 62.22 %\n",
            "# 76  epoch train loss:  0.4123478638546546\n",
            "Accuracy on training set after epoch 76: 86.86 %\n",
            "Accuracy on test set after epoch 76: 62.94 %\n",
            "# 77  epoch train loss:  0.40531374578890594\n",
            "Accuracy on training set after epoch 77: 86.68 %\n",
            "Accuracy on test set after epoch 77: 62.71 %\n",
            "# 78  epoch train loss:  0.40036738562919294\n",
            "Accuracy on training set after epoch 78: 87.26 %\n",
            "Accuracy on test set after epoch 78: 63.83 %\n",
            "# 79  epoch train loss:  0.3927926736719468\n",
            "Accuracy on training set after epoch 79: 87.24 %\n",
            "Accuracy on test set after epoch 79: 63.41 %\n",
            "# 80  epoch train loss:  0.3918269203447015\n",
            "Accuracy on training set after epoch 80: 87.23 %\n",
            "Accuracy on test set after epoch 80: 63.23 %\n",
            "# 81  epoch train loss:  0.38485392775681926\n",
            "Accuracy on training set after epoch 81: 88.22 %\n",
            "Accuracy on test set after epoch 81: 64.16 %\n",
            "# 82  epoch train loss:  0.3778563914701457\n",
            "Accuracy on training set after epoch 82: 84.28 %\n",
            "Accuracy on test set after epoch 82: 61.92 %\n",
            "# 83  epoch train loss:  0.380708410535627\n",
            "Accuracy on training set after epoch 83: 87.62 %\n",
            "Accuracy on test set after epoch 83: 63.13 %\n",
            "# 84  epoch train loss:  0.3717890337605001\n",
            "Accuracy on training set after epoch 84: 85.56 %\n",
            "Accuracy on test set after epoch 84: 62.37 %\n",
            "# 85  epoch train loss:  0.366846538984867\n",
            "Accuracy on training set after epoch 85: 86.51 %\n",
            "Accuracy on test set after epoch 85: 62.44 %\n",
            "# 86  epoch train loss:  0.36254697615075904\n",
            "Accuracy on training set after epoch 86: 85.53 %\n",
            "Accuracy on test set after epoch 86: 62.18 %\n",
            "# 87  epoch train loss:  0.3570881089591004\n",
            "Accuracy on training set after epoch 87: 88.09 %\n",
            "Accuracy on test set after epoch 87: 63.11 %\n",
            "# 88  epoch train loss:  0.3531332168051654\n",
            "Accuracy on training set after epoch 88: 87.46 %\n",
            "Accuracy on test set after epoch 88: 63.04 %\n",
            "# 89  epoch train loss:  0.351479865362882\n",
            "Accuracy on training set after epoch 89: 88.76 %\n",
            "Accuracy on test set after epoch 89: 63.61 %\n",
            "# 90  epoch train loss:  0.3396568847510516\n",
            "Accuracy on training set after epoch 90: 88.57 %\n",
            "Accuracy on test set after epoch 90: 63.43 %\n",
            "# 91  epoch train loss:  0.3452109285937551\n",
            "Accuracy on training set after epoch 91: 89.10 %\n",
            "Accuracy on test set after epoch 91: 63.85 %\n",
            "# 92  epoch train loss:  0.340906535877901\n",
            "Accuracy on training set after epoch 92: 88.48 %\n",
            "Accuracy on test set after epoch 92: 63.61 %\n",
            "# 93  epoch train loss:  0.3344049135132519\n",
            "Accuracy on training set after epoch 93: 88.02 %\n",
            "Accuracy on test set after epoch 93: 63.16 %\n",
            "# 94  epoch train loss:  0.342913819738971\n",
            "Accuracy on training set after epoch 94: 88.69 %\n",
            "Accuracy on test set after epoch 94: 64.27 %\n",
            "# 95  epoch train loss:  0.3198054293384942\n",
            "Accuracy on training set after epoch 95: 88.45 %\n",
            "Accuracy on test set after epoch 95: 63.73 %\n",
            "# 96  epoch train loss:  0.3319767391513985\n",
            "Accuracy on training set after epoch 96: 88.95 %\n",
            "Accuracy on test set after epoch 96: 63.30 %\n",
            "# 97  epoch train loss:  0.32439756141904064\n",
            "Accuracy on training set after epoch 97: 90.61 %\n",
            "Accuracy on test set after epoch 97: 63.92 %\n",
            "# 98  epoch train loss:  0.32162933432690016\n",
            "Accuracy on training set after epoch 98: 89.71 %\n",
            "Accuracy on test set after epoch 98: 63.72 %\n",
            "# 99  epoch train loss:  0.3145761962055855\n",
            "Accuracy on training set after epoch 99: 89.95 %\n",
            "Accuracy on test set after epoch 99: 64.23 %\n",
            "# 100  epoch train loss:  0.3156870627570945\n",
            "Accuracy on training set after epoch 100: 88.84 %\n",
            "Accuracy on test set after epoch 100: 63.33 %\n",
            "Training finished.\n"
          ]
        }
      ]
    },
    {
      "cell_type": "markdown",
      "source": [
        "Plot Results:"
      ],
      "metadata": {
        "id": "3Koe6iKdHxAH"
      }
    },
    {
      "cell_type": "markdown",
      "source": [
        "Training and Test Losses:"
      ],
      "metadata": {
        "id": "hdACAZWuIXbu"
      }
    },
    {
      "cell_type": "code",
      "source": [
        "plt.figure(figsize=(12, 4))\n",
        "plt.subplot(1, 2, 1)\n",
        "plt.plot(range(1, EPOCHS_RESNET56+1), train_losses, label='Training Loss')\n",
        "plt.xlabel('Epoch')\n",
        "plt.ylabel('Loss')\n",
        "plt.title('Training Loss Curve')\n",
        "plt.legend()\n",
        "\n",
        "plt.subplot(1, 2, 2)\n",
        "plt.plot(range(1, EPOCHS_RESNET56+1), test_losses, label='Test Loss')\n",
        "plt.xlabel('Epoch')\n",
        "plt.ylabel('Loss')\n",
        "plt.title('Test Loss Curve')\n",
        "plt.legend()\n",
        "plt.savefig('/content/drive/MyDrive/719_project/results/resnet56_losses.png')"
      ],
      "metadata": {
        "colab": {
          "base_uri": "https://localhost:8080/",
          "height": 400
        },
        "id": "d3PZHx8hHyfp",
        "outputId": "69162022-ba2c-4316-abd2-60080791fca3"
      },
      "execution_count": null,
      "outputs": [
        {
          "output_type": "display_data",
          "data": {
            "text/plain": [
              "<Figure size 1200x400 with 2 Axes>"
            ],
            "image/png": "[encoded data removed]"
          },
          "metadata": {}
        }
      ]
    },
    {
      "cell_type": "markdown",
      "source": [
        "Training and Test Accuracies:"
      ],
      "metadata": {
        "id": "qbmXowXhIPY2"
      }
    },
    {
      "cell_type": "code",
      "source": [
        "# Plotting the training accuracy curve\n",
        "plt.plot(range(1, EPOCHS_RESNET56+1), train_accuracies, label='Training Accuracy')\n",
        "plt.plot(range(1, EPOCHS_RESNET56+1), test_accuracies, label='Test Accuracy')\n",
        "plt.xlabel('Epoch')\n",
        "plt.ylabel('Accuracy')\n",
        "plt.title('Training and Test Accuracy Curves')\n",
        "plt.legend()\n",
        "\n",
        "plt.tight_layout()\n",
        "plt.savefig('/content/drive/MyDrive/719_project/results/resnet56_accuracies.png')\n",
        "plt.show()"
      ],
      "metadata": {
        "colab": {
          "base_uri": "https://localhost:8080/",
          "height": 487
        },
        "id": "5NcH0kWeIR0q",
        "outputId": "601c67f7-6553-4cc3-980a-b4e30c7268a2"
      },
      "execution_count": null,
      "outputs": [
        {
          "output_type": "display_data",
          "data": {
            "text/plain": [
              "<Figure size 640x480 with 1 Axes>"
            ],
            "image/png": "[encoded data removed]"
          },
          "metadata": {}
        }
      ]
    },
    {
      "cell_type": "markdown",
      "source": [
        "Save trained ResNet-56 weights:"
      ],
      "metadata": {
        "id": "vClLBAJtuUmK"
      }
    },
    {
      "cell_type": "code",
      "source": [
        "torch.save(model_resnet56.state_dict(), '/content/drive/MyDrive/719_project/trained_weights/resnet_model_weights.pth')"
      ],
      "metadata": {
        "id": "-gahXtc9dc0l"
      },
      "execution_count": null,
      "outputs": []
    },
    {
      "cell_type": "markdown",
      "source": [
        "Calculate Top-1 accuracy for trained ResNet-56 model and cifar-100 dataset (in paper, 70.43%):"
      ],
      "metadata": {
        "id": "fjgi4ZDmuXFv"
      }
    },
    {
      "cell_type": "code",
      "source": [
        "with torch.no_grad(): # for making sure there is no training, just inference\n",
        "    model_resnet56.eval()  # model to eval. mode\n",
        "    for images, labels in testloader:\n",
        "        images = images.to(device)\n",
        "        labels = labels.to(device)\n",
        "        outputs = model_resnet56(images)\n",
        "        _, predicted = torch.max(outputs.data, 1)\n",
        "        total += labels.size(0)\n",
        "        correct += (predicted == labels).sum().item()\n",
        "\n",
        "top1_accuracy = 100 * correct / total\n",
        "print('Top-1 Accuracy: {:.2f}%'.format(top1_accuracy))"
      ],
      "metadata": {
        "colab": {
          "base_uri": "https://localhost:8080/"
        },
        "id": "Xra3b6yxsrkU",
        "outputId": "f1f8a1f4-ee56-4462-8f09-b89406757ee6"
      },
      "execution_count": null,
      "outputs": [
        {
          "output_type": "stream",
          "name": "stdout",
          "text": [
            "Top-1 Accuracy: 41.61%\n"
          ]
        }
      ]
    },
    {
      "cell_type": "markdown",
      "source": [
        "# **Vision Transformer w/ Feature Guidance:**"
      ],
      "metadata": {
        "id": "x_f-1YhVwFmO"
      }
    },
    {
      "cell_type": "markdown",
      "source": [
        "Imports:"
      ],
      "metadata": {
        "id": "YzYyySw2wH9S"
      }
    },
    {
      "cell_type": "code",
      "source": [
        "!pip install timm\n",
        "import os\n",
        "import matplotlib.pyplot as plt\n",
        "import numpy as np\n",
        "import PIL\n",
        "\n",
        "import torch\n",
        "import torch.nn.functional as F\n",
        "import torchvision\n",
        "import torchvision.transforms as T\n",
        "\n",
        "from timm import create_model"
      ],
      "metadata": {
        "id": "RWzf5UlGwIx8",
        "outputId": "b2c9e407-cced-4eae-aa59-762afebcd62b",
        "colab": {
          "base_uri": "https://localhost:8080/"
        }
      },
      "execution_count": 30,
      "outputs": [
        {
          "output_type": "stream",
          "name": "stdout",
          "text": [
            "Collecting timm\n",
            "  Downloading timm-0.9.2-py3-none-any.whl (2.2 MB)\n",
            "\u001b[?25l     \u001b[90m━━━━━━━━━━━━━━━━━━━━━━━━━━━━━━━━━━━━━━━━\u001b[0m \u001b[32m0.0/2.2 MB\u001b[0m \u001b[31m?\u001b[0m eta \u001b[36m-:--:--\u001b[0m\r\u001b[2K     \u001b[91m━━━━━━━━━━━━━━━━━━━━━━━━━━━━━━━━━━━━━━━\u001b[0m\u001b[91m╸\u001b[0m \u001b[32m2.2/2.2 MB\u001b[0m \u001b[31m88.4 MB/s\u001b[0m eta \u001b[36m0:00:01\u001b[0m\r\u001b[2K     \u001b[90m━━━━━━━━━━━━━━━━━━━━━━━━━━━━━━━━━━━━━━━━\u001b[0m \u001b[32m2.2/2.2 MB\u001b[0m \u001b[31m56.2 MB/s\u001b[0m eta \u001b[36m0:00:00\u001b[0m\n",
            "\u001b[?25hRequirement already satisfied: torch>=1.7 in /usr/local/lib/python3.10/dist-packages (from timm) (2.0.1+cu118)\n",
            "Requirement already satisfied: torchvision in /usr/local/lib/python3.10/dist-packages (from timm) (0.15.2+cu118)\n",
            "Requirement already satisfied: pyyaml in /usr/local/lib/python3.10/dist-packages (from timm) (6.0)\n",
            "Collecting huggingface-hub (from timm)\n",
            "  Downloading huggingface_hub-0.16.2-py3-none-any.whl (268 kB)\n",
            "\u001b[2K     \u001b[90m━━━━━━━━━━━━━━━━━━━━━━━━━━━━━━━━━━━━━━\u001b[0m \u001b[32m268.5/268.5 kB\u001b[0m \u001b[31m31.9 MB/s\u001b[0m eta \u001b[36m0:00:00\u001b[0m\n",
            "\u001b[?25hCollecting safetensors (from timm)\n",
            "  Downloading safetensors-0.3.1-cp310-cp310-manylinux_2_17_x86_64.manylinux2014_x86_64.whl (1.3 MB)\n",
            "\u001b[2K     \u001b[90m━━━━━━━━━━━━━━━━━━━━━━━━━━━━━━━━━━━━━━━━\u001b[0m \u001b[32m1.3/1.3 MB\u001b[0m \u001b[31m58.6 MB/s\u001b[0m eta \u001b[36m0:00:00\u001b[0m\n",
            "\u001b[?25hRequirement already satisfied: filelock in /usr/local/lib/python3.10/dist-packages (from torch>=1.7->timm) (3.12.2)\n",
            "Requirement already satisfied: typing-extensions in /usr/local/lib/python3.10/dist-packages (from torch>=1.7->timm) (4.6.3)\n",
            "Requirement already satisfied: sympy in /usr/local/lib/python3.10/dist-packages (from torch>=1.7->timm) (1.11.1)\n",
            "Requirement already satisfied: networkx in /usr/local/lib/python3.10/dist-packages (from torch>=1.7->timm) (3.1)\n",
            "Requirement already satisfied: jinja2 in /usr/local/lib/python3.10/dist-packages (from torch>=1.7->timm) (3.1.2)\n",
            "Requirement already satisfied: triton==2.0.0 in /usr/local/lib/python3.10/dist-packages (from torch>=1.7->timm) (2.0.0)\n",
            "Requirement already satisfied: cmake in /usr/local/lib/python3.10/dist-packages (from triton==2.0.0->torch>=1.7->timm) (3.25.2)\n",
            "Requirement already satisfied: lit in /usr/local/lib/python3.10/dist-packages (from triton==2.0.0->torch>=1.7->timm) (16.0.6)\n",
            "Requirement already satisfied: fsspec in /usr/local/lib/python3.10/dist-packages (from huggingface-hub->timm) (2023.6.0)\n",
            "Requirement already satisfied: requests in /usr/local/lib/python3.10/dist-packages (from huggingface-hub->timm) (2.27.1)\n",
            "Requirement already satisfied: tqdm>=4.42.1 in /usr/local/lib/python3.10/dist-packages (from huggingface-hub->timm) (4.65.0)\n",
            "Requirement already satisfied: packaging>=20.9 in /usr/local/lib/python3.10/dist-packages (from huggingface-hub->timm) (23.1)\n",
            "Requirement already satisfied: numpy in /usr/local/lib/python3.10/dist-packages (from torchvision->timm) (1.22.4)\n",
            "Requirement already satisfied: pillow!=8.3.*,>=5.3.0 in /usr/local/lib/python3.10/dist-packages (from torchvision->timm) (8.4.0)\n",
            "Requirement already satisfied: MarkupSafe>=2.0 in /usr/local/lib/python3.10/dist-packages (from jinja2->torch>=1.7->timm) (2.1.3)\n",
            "Requirement already satisfied: urllib3<1.27,>=1.21.1 in /usr/local/lib/python3.10/dist-packages (from requests->huggingface-hub->timm) (1.26.16)\n",
            "Requirement already satisfied: certifi>=2017.4.17 in /usr/local/lib/python3.10/dist-packages (from requests->huggingface-hub->timm) (2023.5.7)\n",
            "Requirement already satisfied: charset-normalizer~=2.0.0 in /usr/local/lib/python3.10/dist-packages (from requests->huggingface-hub->timm) (2.0.12)\n",
            "Requirement already satisfied: idna<4,>=2.5 in /usr/local/lib/python3.10/dist-packages (from requests->huggingface-hub->timm) (3.4)\n",
            "Requirement already satisfied: mpmath>=0.19 in /usr/local/lib/python3.10/dist-packages (from sympy->torch>=1.7->timm) (1.3.0)\n",
            "Installing collected packages: safetensors, huggingface-hub, timm\n",
            "Successfully installed huggingface-hub-0.16.2 safetensors-0.3.1 timm-0.9.2\n"
          ]
        }
      ]
    },
    {
      "cell_type": "code",
      "source": [
        "model_name = \"vit_base_patch16_224\"\n",
        "device = 'cuda' if torch.cuda.is_available() else 'cpu'\n",
        "print(\"device = \", device)\n",
        "# create a ViT model : https://github.com/rwightman/pytorch-image-models/blob/master/timm/models/vision_transformer.py\n",
        "model = create_model(model_name, pretrained=True).to(device)"
      ],
      "metadata": {
        "id": "SEVsWbnR229w",
        "outputId": "0471c866-9281-454c-cd82-021fb417cbae",
        "colab": {
          "base_uri": "https://localhost:8080/",
          "height": 66,
          "referenced_widgets": [
            "0d68916922da45d6be2ceeb39f0a145c",
            "a559e279615c4e2b9b649b1ab5b6a34a",
            "1cd5c30025d94a93842f5f042267dbb4",
            "b17b4527ff654e87af09ba598fd30c61",
            "6d3fb91977a74fcd948761de8c8312e4",
            "3cb9c22d0c1d459e9351cd3555f36b9f",
            "b7ae61c95d12463fb5d35449c690a9b0",
            "a2f40aa8237644ccbe9d2ab75ebda121",
            "7956306fe2454542b626682a84d503d2",
            "09a76102a0a54bca923663689b90db2e",
            "1e7ea58d5627423c8503a2491c29c50f"
          ]
        }
      },
      "execution_count": 31,
      "outputs": [
        {
          "output_type": "stream",
          "name": "stdout",
          "text": [
            "device =  cuda\n"
          ]
        },
        {
          "output_type": "display_data",
          "data": {
            "text/plain": [
              "Downloading model.safetensors:   0%|          | 0.00/346M [00:00<?, ?B/s]"
            ],
            "application/vnd.jupyter.widget-view+json": {
              "version_major": 2,
              "version_minor": 0,
              "model_id": "0d68916922da45d6be2ceeb39f0a145c"
            }
          },
          "metadata": {}
        }
      ]
    },
    {
      "cell_type": "code",
      "source": [
        "# Define transforms for test\n",
        "IMG_SIZE = (224, 224)\n",
        "NORMALIZE_MEAN = (0.5, 0.5, 0.5)\n",
        "NORMALIZE_STD = (0.5, 0.5, 0.5)\n",
        "transforms = [\n",
        "              T.Resize(IMG_SIZE),\n",
        "              T.ToTensor(),\n",
        "              T.Normalize(NORMALIZE_MEAN, NORMALIZE_STD),\n",
        "              ]\n",
        "\n",
        "transforms = T.Compose(transforms)"
      ],
      "metadata": {
        "id": "SzZ0IqQ925UD"
      },
      "execution_count": 32,
      "outputs": []
    },
    {
      "cell_type": "code",
      "source": [
        "%%capture\n",
        "# ImageNet Labels\n",
        "!wget https://storage.googleapis.com/bit_models/ilsvrc2012_wordnet_lemmas.txt\n",
        "imagenet_labels = dict(enumerate(open('ilsvrc2012_wordnet_lemmas.txt')))\n",
        "\n",
        "# Demo Image\n",
        "!wget https://github.com/hirotomusiker/schwert_colab_data_storage/blob/master/images/vit_demo/santorini.png?raw=true -O santorini.png\n",
        "img = PIL.Image.open('santorini.png')\n",
        "img_tensor = transforms(img).unsqueeze(0).to(device)"
      ],
      "metadata": {
        "id": "kw5yOz7e28NC"
      },
      "execution_count": 33,
      "outputs": []
    },
    {
      "cell_type": "code",
      "source": [
        "# end-to-end inference\n",
        "output = model(img_tensor)"
      ],
      "metadata": {
        "id": "oLqg-Vm8wGOt"
      },
      "execution_count": null,
      "outputs": []
    },
    {
      "cell_type": "code",
      "source": [
        "print(\"Inference Result:\")\n",
        "print(imagenet_labels[int(torch.argmax(output))])\n",
        "plt.imshow(img)"
      ],
      "metadata": {
        "id": "TqMoLplm3PH4",
        "outputId": "08de185e-2e96-4656-e854-3f69b135ff0b",
        "colab": {
          "base_uri": "https://localhost:8080/",
          "height": 503
        }
      },
      "execution_count": 36,
      "outputs": [
        {
          "output_type": "stream",
          "name": "stdout",
          "text": [
            "Inference Result:\n",
            "church, church_building\n",
            "\n"
          ]
        },
        {
          "output_type": "execute_result",
          "data": {
            "text/plain": [
              "<matplotlib.image.AxesImage at 0x7fb384152aa0>"
            ]
          },
          "metadata": {},
          "execution_count": 36
        },
        {
          "output_type": "display_data",
          "data": {
            "text/plain": [
              "<Figure size 640x480 with 1 Axes>"
            ],
            "image/png": "[encoded data removed]"
          },
          "metadata": {}
        }
      ]
    },
    {
      "cell_type": "markdown",
      "source": [
        "Set training configuration for Vision Transformer w/ feature guidance"
      ],
      "metadata": {
        "id": "QecnTTJPwges"
      }
    },
    {
      "cell_type": "code",
      "source": [
        "# Set up hyperparameters and data loaders\n",
        "torch.cuda.empty_cache()\n",
        "image_size = 32\n",
        "patch_size = 16\n",
        "num_classes = 100\n",
        "dim = 128 #64\n",
        "depth = 7 #10\n",
        "heads = 4\n",
        "token_dim = 128\n",
        "mlp_dim = 256 #512\n",
        "batch_size = 128\n",
        "learning_rate = 1e-3\n",
        "epochs = 50\n",
        "BETA = 2.5 # scaler for feature guidance loss\n",
        "device = torch.device(\"cuda\")\n",
        "\n",
        "\n",
        "# Create an instance of the model\n",
        "\n",
        "\n",
        "model_ViT = T2TViT(\n",
        "    dim=128,\n",
        "    image_size=224,\n",
        "    num_classes=100,\n",
        "    channels=3,\n",
        "    depth = 7,\n",
        "    heads = 4,\n",
        "    mlp_dim = 512\n",
        ").to(device)\n",
        "\n",
        "\n",
        "# Loss and optimizer\n",
        "criterion = nn.CrossEntropyLoss()\n",
        "optimizer = optim.Adam(model_ViT.parameters(), lr=learning_rate, weight_decay=0.01)\n",
        "model_ViT.to(device)\n",
        "\n",
        "# Create data loaders (replace with your own datasets)\n",
        "train_dataset = torchvision.datasets.CIFAR100(root='./data', train=True, download=True, transform=custom_transform_train)\n",
        "train_dataloader = torch.utils.data.DataLoader(trainset, batch_size=batch_size, shuffle=True, num_workers=2)"
      ],
      "metadata": {
        "colab": {
          "base_uri": "https://localhost:8080/"
        },
        "id": "-qPmWYBzwl6x",
        "outputId": "90299fd7-bfd6-42a7-f0ac-a5e01f37cd7a"
      },
      "execution_count": 28,
      "outputs": [
        {
          "output_type": "stream",
          "name": "stdout",
          "text": [
            "Files already downloaded and verified\n"
          ]
        }
      ]
    },
    {
      "cell_type": "markdown",
      "source": [
        "If pre-trained weights will be used, run following code snippet:"
      ],
      "metadata": {
        "id": "f3mUQRs2y0V-"
      }
    },
    {
      "cell_type": "code",
      "source": [
        "model_ViT.load_state_dict(torch.load('/content/drive/MyDrive/719_project/trained_weights/ViT_model_weights.pth'))"
      ],
      "metadata": {
        "id": "HfN4ByVJy4d_"
      },
      "execution_count": null,
      "outputs": []
    },
    {
      "cell_type": "markdown",
      "source": [
        "Vision Transformer Trainer:"
      ],
      "metadata": {
        "id": "q5tBSOANwJum"
      }
    },
    {
      "cell_type": "code",
      "source": [
        "# Training loop\n",
        "#model_resnet56.eval() # no training for cnn, just eval.\n",
        "model_ViT.train()\n",
        "for epoch in range(epochs):\n",
        "    train_loss = 0.0\n",
        "    for images, labels in train_dataloader:\n",
        "        images, labels = images.to(device), labels.to(device)\n",
        "        # zero grads\n",
        "        optimizer.zero_grad()\n",
        "        # Forward pass\n",
        "        outputs = model_ViT(images)\n",
        "        loss = criterion(outputs, labels)\n",
        "        # Backward pass\n",
        "        loss.backward()\n",
        "        # Update weights\n",
        "        optimizer.step()\n",
        "        train_loss += loss.item()\n",
        "    avg_train_loss = train_loss / len(train_dataloader)\n",
        "    print(f\"Epoch {epoch+1}/{epochs} - Loss: {avg_train_loss:.4f}\")"
      ],
      "metadata": {
        "colab": {
          "base_uri": "https://localhost:8080/",
          "height": 773
        },
        "id": "o86la3xZ-SZS",
        "outputId": "e5d6961b-e53b-401d-c935-a638cabaf843"
      },
      "execution_count": 29,
      "outputs": [
        {
          "output_type": "stream",
          "name": "stdout",
          "text": [
            "Epoch 1/50 - Loss: 4.2375\n",
            "Epoch 2/50 - Loss: 4.1137\n",
            "Epoch 3/50 - Loss: 4.1062\n",
            "Epoch 4/50 - Loss: 4.0838\n",
            "Epoch 5/50 - Loss: 4.0600\n",
            "Epoch 6/50 - Loss: 4.0442\n",
            "Epoch 7/50 - Loss: 4.0386\n",
            "Epoch 8/50 - Loss: 4.0257\n",
            "Epoch 9/50 - Loss: 4.0137\n",
            "Epoch 10/50 - Loss: 3.9917\n",
            "Epoch 11/50 - Loss: 3.9817\n",
            "Epoch 12/50 - Loss: 3.9793\n",
            "Epoch 13/50 - Loss: 3.9743\n",
            "Epoch 14/50 - Loss: 3.9767\n",
            "Epoch 15/50 - Loss: 3.9728\n",
            "Epoch 16/50 - Loss: 3.9724\n",
            "Epoch 17/50 - Loss: 3.9670\n",
            "Epoch 18/50 - Loss: 3.9687\n",
            "Epoch 19/50 - Loss: 3.9659\n",
            "Epoch 20/50 - Loss: 3.9640\n",
            "Epoch 21/50 - Loss: 3.9654\n",
            "Epoch 22/50 - Loss: 3.9623\n",
            "Epoch 23/50 - Loss: 3.9630\n",
            "Epoch 24/50 - Loss: 3.9607\n",
            "Epoch 25/50 - Loss: 3.9561\n",
            "Epoch 26/50 - Loss: 3.9570\n",
            "Epoch 27/50 - Loss: 3.9552\n",
            "Epoch 28/50 - Loss: 3.9533\n",
            "Epoch 29/50 - Loss: 3.9517\n",
            "Epoch 30/50 - Loss: 3.9508\n",
            "Epoch 31/50 - Loss: 3.9458\n"
          ]
        },
        {
          "output_type": "error",
          "ename": "KeyboardInterrupt",
          "evalue": "ignored",
          "traceback": [
            "\u001b[0;31m---------------------------------------------------------------------------\u001b[0m",
            "\u001b[0;31mKeyboardInterrupt\u001b[0m                         Traceback (most recent call last)",
            "\u001b[0;32m<ipython-input-29-04e67ca4d338>\u001b[0m in \u001b[0;36m<cell line: 4>\u001b[0;34m()\u001b[0m\n\u001b[1;32m     15\u001b[0m         \u001b[0;31m# Update weights\u001b[0m\u001b[0;34m\u001b[0m\u001b[0;34m\u001b[0m\u001b[0m\n\u001b[1;32m     16\u001b[0m         \u001b[0moptimizer\u001b[0m\u001b[0;34m.\u001b[0m\u001b[0mstep\u001b[0m\u001b[0;34m(\u001b[0m\u001b[0;34m)\u001b[0m\u001b[0;34m\u001b[0m\u001b[0;34m\u001b[0m\u001b[0m\n\u001b[0;32m---> 17\u001b[0;31m         \u001b[0mtrain_loss\u001b[0m \u001b[0;34m+=\u001b[0m \u001b[0mloss\u001b[0m\u001b[0;34m.\u001b[0m\u001b[0mitem\u001b[0m\u001b[0;34m(\u001b[0m\u001b[0;34m)\u001b[0m\u001b[0;34m\u001b[0m\u001b[0;34m\u001b[0m\u001b[0m\n\u001b[0m\u001b[1;32m     18\u001b[0m     \u001b[0mavg_train_loss\u001b[0m \u001b[0;34m=\u001b[0m \u001b[0mtrain_loss\u001b[0m \u001b[0;34m/\u001b[0m \u001b[0mlen\u001b[0m\u001b[0;34m(\u001b[0m\u001b[0mtrain_dataloader\u001b[0m\u001b[0;34m)\u001b[0m\u001b[0;34m\u001b[0m\u001b[0;34m\u001b[0m\u001b[0m\n\u001b[1;32m     19\u001b[0m     \u001b[0mprint\u001b[0m\u001b[0;34m(\u001b[0m\u001b[0;34mf\"Epoch {epoch+1}/{epochs} - Loss: {avg_train_loss:.4f}\"\u001b[0m\u001b[0;34m)\u001b[0m\u001b[0;34m\u001b[0m\u001b[0;34m\u001b[0m\u001b[0m\n",
            "\u001b[0;31mKeyboardInterrupt\u001b[0m: "
          ]
        }
      ]
    },
    {
      "cell_type": "markdown",
      "source": [
        "Calculate Top-1 Accuracy for Vision Transformer w/ feature guidance:"
      ],
      "metadata": {
        "id": "Vs5z4OQCKIU4"
      }
    },
    {
      "cell_type": "code",
      "source": [
        "torch.save(model_ViT.state_dict(), '/content/drive/MyDrive/719_project/trained_weights/ViT_model_weights.pth')"
      ],
      "metadata": {
        "id": "At_C5tkjrna9"
      },
      "execution_count": null,
      "outputs": []
    },
    {
      "cell_type": "code",
      "source": [
        "with torch.no_grad(): # for making sure there is no training, just inference\n",
        "    model_ViT.eval()  # model to eval. mode\n",
        "    total, correct = 0, 0\n",
        "    for images, labels in testloader:\n",
        "        images, labels = images.to(device), labels.to(device)\n",
        "        outputs = model_ViT(images)\n",
        "        _, predicted = torch.max(outputs.data, 1)\n",
        "        total += labels.size(0)\n",
        "        correct += (predicted == labels).sum().item()\n",
        "top1_accuracy = 100 * correct / total\n",
        "print('Top-1 Accuracy: {:.2f}%'.format(top1_accuracy))"
      ],
      "metadata": {
        "colab": {
          "base_uri": "https://localhost:8080/"
        },
        "id": "K79DxOQaKChG",
        "outputId": "b7bfa789-3dfa-4287-82a8-c1685d97e203"
      },
      "execution_count": null,
      "outputs": [
        {
          "output_type": "stream",
          "name": "stdout",
          "text": [
            "Top-1 Accuracy: 7.43%\n"
          ]
        }
      ]
    },
    {
      "cell_type": "markdown",
      "source": [
        "# TEMP:"
      ],
      "metadata": {
        "id": "f00AkMq0_mNS"
      }
    },
    {
      "cell_type": "code",
      "source": [
        "# Define the training loop\n",
        "def train_ViT_with_fg(model_ViT, model_cnn, dataloader, criterion, optimizer, device, BETA):\n",
        "\n",
        "    ###def get_features_hook(module, input, output):\n",
        "      #### Store the intermediate features in a global variable\n",
        "      ###global student_features\n",
        "      ###student_features = output\n",
        "    ###def get_teacher_features_hook(module, input, output):\n",
        "        #### Store the intermediate features in a global variable\n",
        "        ###global teacher_features\n",
        "        ###teacher_features = output\n",
        "\n",
        "    model_cnn.eval() # no training for cnn, just eval.\n",
        "    model_ViT.train()\n",
        "    total_loss = 0.0\n",
        "    for images, labels in dataloader:\n",
        "        images = images.to(device)\n",
        "        labels = labels.to(device)\n",
        "        #images, labels = images.cuda(), labels.cuda() # add this line\n",
        "\n",
        "        optimizer.zero_grad()\n",
        "        outputs = model_ViT(images)\n",
        "\n",
        "        #### hook cnn and ViT for intermediate feature extraction #\n",
        "        ###criterion_fg = nn.MSELoss()\n",
        "        ###model_ViT.register_forward_hook(get_features_hook)\n",
        "        #### Register a forward hook to extract features from the teacher model\n",
        "        ###model_cnn.register_forward_hook(get_teacher_features_hook)\n",
        "        ####loss_fg = criterion_fg(student_features, teacher_features.detach())  # detach the teacher features to prevent backpropagation through the teacher\n",
        "        ###loss_fg = 0\n",
        "        # hook cnn and ViT for intermediate feature extraction #\n",
        "        loss_cls = criterion(outputs, labels) # cross-entropy loss\n",
        "        loss = loss_cls + BETA * 0 # loss_fg\n",
        "        loss.backward()\n",
        "        optimizer.step()\n",
        "        total_loss += loss.item() * images.size(0)\n",
        "    return total_loss / len(dataloader.dataset)"
      ],
      "metadata": {
        "id": "OYTQvwCu_puJ"
      },
      "execution_count": null,
      "outputs": []
    }
  ]
}