{
  "nbformat": 4,
  "nbformat_minor": 0,
  "metadata": {
    "colab": {
      "provenance": [],
      "authorship_tag": "ABX9TyN872sy9xHJxF6u9vNboSGy",
      "include_colab_link": true
    },
    "kernelspec": {
      "name": "python3",
      "display_name": "Python 3"
    },
    "language_info": {
      "name": "python"
    }
  },
  "cells": [
    {
      "cell_type": "markdown",
      "metadata": {
        "id": "view-in-github",
        "colab_type": "text"
      },
      "source": [
        "<a href=\"https://colab.research.google.com/github/imthelizardking/cmp719-project/blob/main/cmp719_project.ipynb\" target=\"_parent\"><img src=\"https://colab.research.google.com/assets/colab-badge.svg\" alt=\"Open In Colab\"/></a>"
      ]
    },
    {
      "cell_type": "markdown",
      "source": [
        "Dependencies"
      ],
      "metadata": {
        "id": "yIKF3i36LiIt"
      }
    },
    {
      "cell_type": "code",
      "source": [
        "from google.colab import drive\n",
        "drive.mount('/content/drive')"
      ],
      "metadata": {
        "id": "TW5NkYdSO-oE",
        "outputId": "8a176e5f-a972-4476-ad8d-4c342888cf8f",
        "colab": {
          "base_uri": "https://localhost:8080/"
        }
      },
      "execution_count": 1,
      "outputs": [
        {
          "output_type": "stream",
          "name": "stdout",
          "text": [
            "Mounted at /content/drive\n"
          ]
        }
      ]
    },
    {
      "cell_type": "code",
      "source": [
        "# set path for files in gdrive\n",
        "%cd drive/My Drive/719_project\n",
        "!ls"
      ],
      "metadata": {
        "id": "KMnF_c-pPK4Q",
        "outputId": "5d5c6d25-a0e0-46a1-e843-799d48640d62",
        "colab": {
          "base_uri": "https://localhost:8080/"
        }
      },
      "execution_count": 2,
      "outputs": [
        {
          "output_type": "stream",
          "name": "stdout",
          "text": [
            "/content/drive/My Drive/719_project\n",
            "data\n"
          ]
        }
      ]
    },
    {
      "cell_type": "code",
      "source": [
        "!git clone https://github.com/facebookresearch/pycls\n",
        "!pip install -r requirements.txt"
      ],
      "metadata": {
        "id": "udK9tfCes2RX",
        "outputId": "59991d0e-4cca-4c91-fc58-b5309436e52f",
        "colab": {
          "base_uri": "https://localhost:8080/"
        }
      },
      "execution_count": 17,
      "outputs": [
        {
          "output_type": "stream",
          "name": "stdout",
          "text": [
            "fatal: destination path 'pycls' already exists and is not an empty directory.\n",
            "Looking in indexes: https://pypi.org/simple, https://us-python.pkg.dev/colab-wheels/public/simple/\n",
            "Collecting black==19.3b0 (from -r requirements.txt (line 1))\n",
            "  Using cached black-19.3b0-py36-none-any.whl (89 kB)\n",
            "Collecting isort==4.3.21 (from -r requirements.txt (line 2))\n",
            "  Using cached isort-4.3.21-py2.py3-none-any.whl (42 kB)\n",
            "Collecting iopath (from -r requirements.txt (line 3))\n",
            "  Using cached iopath-0.1.10.tar.gz (42 kB)\n",
            "  Preparing metadata (setup.py) ... \u001b[?25l\u001b[?25hdone\n",
            "Collecting fairscale (from -r requirements.txt (line 4))\n",
            "  Using cached fairscale-0.4.13.tar.gz (266 kB)\n",
            "  Installing build dependencies ... \u001b[?25l\u001b[?25hdone\n",
            "  Getting requirements to build wheel ... \u001b[?25l\u001b[?25hdone\n",
            "  Installing backend dependencies ... \u001b[?25l\u001b[?25hdone\n",
            "  Preparing metadata (pyproject.toml) ... \u001b[?25l\u001b[?25hdone\n",
            "Collecting ffcv (from -r requirements.txt (line 5))\n",
            "  Using cached ffcv-1.0.2.tar.gz (2.6 MB)\n",
            "  \u001b[1;31merror\u001b[0m: \u001b[1msubprocess-exited-with-error\u001b[0m\n",
            "  \n",
            "  \u001b[31m×\u001b[0m \u001b[32mpython setup.py egg_info\u001b[0m did not run successfully.\n",
            "  \u001b[31m│\u001b[0m exit code: \u001b[1;36m1\u001b[0m\n",
            "  \u001b[31m╰─>\u001b[0m See above for output.\n",
            "  \n",
            "  \u001b[1;35mnote\u001b[0m: This error originates from a subprocess, and is likely not a problem with pip.\n",
            "  Preparing metadata (setup.py) ... \u001b[?25l\u001b[?25herror\n",
            "\u001b[1;31merror\u001b[0m: \u001b[1mmetadata-generation-failed\u001b[0m\n",
            "\n",
            "\u001b[31m×\u001b[0m Encountered error while generating package metadata.\n",
            "\u001b[31m╰─>\u001b[0m See above for output.\n",
            "\n",
            "\u001b[1;35mnote\u001b[0m: This is an issue with the package mentioned above, not pip.\n",
            "\u001b[1;36mhint\u001b[0m: See above for details.\n"
          ]
        }
      ]
    },
    {
      "cell_type": "code",
      "source": [
        "!chmod 744 ./tools/*.py\n",
        "!python setup.py develop --user"
      ],
      "metadata": {
        "id": "L0LqbzACs7Zz",
        "outputId": "35c877c0-5a7d-4d62-8ff7-3cf578685a67",
        "colab": {
          "base_uri": "https://localhost:8080/"
        }
      },
      "execution_count": 18,
      "outputs": [
        {
          "output_type": "stream",
          "name": "stdout",
          "text": [
            "running develop\n",
            "/usr/local/lib/python3.10/dist-packages/setuptools/command/develop.py:40: EasyInstallDeprecationWarning: easy_install command is deprecated.\n",
            "!!\n",
            "\n",
            "        ********************************************************************************\n",
            "        Please avoid running ``setup.py`` and ``easy_install``.\n",
            "        Instead, use pypa/build, pypa/installer, pypa/build or\n",
            "        other standards-based tools.\n",
            "\n",
            "        See https://github.com/pypa/setuptools/issues/917 for details.\n",
            "        ********************************************************************************\n",
            "\n",
            "!!\n",
            "  easy_install.initialize_options(self)\n",
            "/usr/local/lib/python3.10/dist-packages/setuptools/_distutils/cmd.py:66: SetuptoolsDeprecationWarning: setup.py install is deprecated.\n",
            "!!\n",
            "\n",
            "        ********************************************************************************\n",
            "        Please avoid running ``setup.py`` directly.\n",
            "        Instead, use pypa/build, pypa/installer, pypa/build or\n",
            "        other standards-based tools.\n",
            "\n",
            "        See https://blog.ganssle.io/articles/2021/10/setup-py-deprecated.html for details.\n",
            "        ********************************************************************************\n",
            "\n",
            "!!\n",
            "  self.initialize_options()\n",
            "running egg_info\n",
            "creating pycls.egg-info\n",
            "writing pycls.egg-info/PKG-INFO\n",
            "writing dependency_links to pycls.egg-info/dependency_links.txt\n",
            "writing requirements to pycls.egg-info/requires.txt\n",
            "writing top-level names to pycls.egg-info/top_level.txt\n",
            "writing manifest file 'pycls.egg-info/SOURCES.txt'\n",
            "reading manifest file 'pycls.egg-info/SOURCES.txt'\n",
            "adding license file 'LICENSE'\n",
            "writing manifest file 'pycls.egg-info/SOURCES.txt'\n",
            "running build_ext\n",
            "Creating /root/.local/lib/python3.10/site-packages/pycls.egg-link (link to .)\n",
            "Adding pycls 0.1.1 to easy-install.pth file\n",
            "\n",
            "Installed /content/drive/MyDrive/719_project/pycls\n",
            "Processing dependencies for pycls==0.1.1\n",
            "Searching for yacs==0.1.8\n",
            "Best match: yacs 0.1.8\n",
            "Adding yacs 0.1.8 to easy-install.pth file\n",
            "\n",
            "Using /usr/local/lib/python3.10/dist-packages\n",
            "Searching for simplejson==3.19.1\n",
            "Best match: simplejson 3.19.1\n",
            "Adding simplejson 3.19.1 to easy-install.pth file\n",
            "\n",
            "Using /usr/local/lib/python3.10/dist-packages\n",
            "Searching for opencv-python==4.7.0.72\n",
            "Best match: opencv-python 4.7.0.72\n",
            "Adding opencv-python 4.7.0.72 to easy-install.pth file\n",
            "\n",
            "Using /usr/local/lib/python3.10/dist-packages\n",
            "Searching for numpy==1.22.4\n",
            "Best match: numpy 1.22.4\n",
            "Adding numpy 1.22.4 to easy-install.pth file\n",
            "Installing f2py script to /root/.local/bin\n",
            "Installing f2py3 script to /root/.local/bin\n",
            "Installing f2py3.10 script to /root/.local/bin\n",
            "\n",
            "Using /usr/local/lib/python3.10/dist-packages\n",
            "Searching for PyYAML==6.0\n",
            "Best match: PyYAML 6.0\n",
            "Adding PyYAML 6.0 to easy-install.pth file\n",
            "\n",
            "Using /usr/local/lib/python3.10/dist-packages\n",
            "Finished processing dependencies for pycls==0.1.1\n"
          ]
        }
      ]
    },
    {
      "cell_type": "code",
      "source": [
        "!pip install fvcore"
      ],
      "metadata": {
        "id": "0oSomjGGtWEx"
      },
      "execution_count": null,
      "outputs": []
    },
    {
      "cell_type": "code",
      "source": [
        "!pip install submitit"
      ],
      "metadata": {
        "id": "dFzx4tpztfjF"
      },
      "execution_count": null,
      "outputs": []
    },
    {
      "cell_type": "code",
      "source": [
        "!pip install fairscale"
      ],
      "metadata": {
        "id": "MH5fu175tsIa"
      },
      "execution_count": null,
      "outputs": []
    },
    {
      "cell_type": "code",
      "source": [
        "!./tools/run_net.py --mode info \\\n",
        "    --cfg configs/dds_baselines/regnetx/RegNetX-400MF_dds_8gpu.yaml"
      ],
      "metadata": {
        "id": "jLxZrvuSs_bb"
      },
      "execution_count": null,
      "outputs": []
    },
    {
      "cell_type": "code",
      "source": [
        "!./tools/run_net.py --mode train \\\n",
        "    --cfg configs/dds_baselines/regnetx/RegNetX-400MF_dds_8gpu.yaml \\\n",
        "    OUT_DIR /tmp"
      ],
      "metadata": {
        "id": "gLB68u0juq75",
        "outputId": "92a844d5-09aa-4ce0-ba31-3b620fc5a417",
        "colab": {
          "base_uri": "https://localhost:8080/"
        }
      },
      "execution_count": 29,
      "outputs": [
        {
          "output_type": "stream",
          "name": "stdout",
          "text": [
            "Traceback (most recent call last):\n",
            "  File \"/content/drive/MyDrive/719_project/pycls/./tools/run_net.py\", line 66, in <module>\n",
            "    main()\n",
            "  File \"/content/drive/MyDrive/719_project/pycls/./tools/run_net.py\", line 49, in main\n",
            "    dist.multi_proc_run(num_proc=cfg.NUM_GPUS, fun=trainer.train_model)\n",
            "  File \"/content/drive/MyDrive/719_project/pycls/pycls/core/distributed.py\", line 144, in multi_proc_run\n",
            "    mp_runner(single_proc_run, args=args, nprocs=num_proc, start_method=\"fork\")\n",
            "  File \"/usr/local/lib/python3.10/dist-packages/torch/multiprocessing/spawn.py\", line 197, in start_processes\n",
            "    while not context.join():\n",
            "  File \"/usr/local/lib/python3.10/dist-packages/torch/multiprocessing/spawn.py\", line 160, in join\n",
            "    raise ProcessRaisedException(msg, error_index, failed_process.pid)\n",
            "torch.multiprocessing.spawn.ProcessRaisedException: \n",
            "\n",
            "-- Process 1 terminated with the following error:\n",
            "Traceback (most recent call last):\n",
            "  File \"/usr/local/lib/python3.10/dist-packages/torch/multiprocessing/spawn.py\", line 69, in _wrap\n",
            "    fn(i, *args)\n",
            "  File \"/content/drive/MyDrive/719_project/pycls/pycls/core/distributed.py\", line 105, in single_proc_run\n",
            "    setup_distributed(cfg_state)\n",
            "  File \"/content/drive/MyDrive/719_project/pycls/pycls/core/distributed.py\", line 94, in setup_distributed\n",
            "    torch.distributed.init_process_group(backend=cfg.DIST_BACKEND)\n",
            "  File \"/usr/local/lib/python3.10/dist-packages/torch/distributed/distributed_c10d.py\", line 907, in init_process_group\n",
            "    default_pg = _new_process_group_helper(\n",
            "  File \"/usr/local/lib/python3.10/dist-packages/torch/distributed/distributed_c10d.py\", line 1024, in _new_process_group_helper\n",
            "    backend_class = ProcessGroupNCCL(backend_prefix_store, group_rank, group_size, pg_options)\n",
            "RuntimeError: ProcessGroupNCCL is only supported with GPUs, no GPUs found!\n",
            "\n"
          ]
        }
      ]
    },
    {
      "cell_type": "code",
      "source": [
        "# cifar100\n",
        "cifar100 = tf.keras.datasets.cifar100\n",
        "(X_train_cifar,Y_train_cifar) , (X_test_cifar,Y_test_cifar) = cifar100.load_data()"
      ],
      "metadata": {
        "id": "BGSGJ9fixFgz"
      },
      "execution_count": null,
      "outputs": []
    },
    {
      "cell_type": "code",
      "source": [
        "# oxford flowers\n"
      ],
      "metadata": {
        "id": "3ehb0zl_xGgd",
        "colab": {
          "base_uri": "https://localhost:8080/"
        },
        "outputId": "145b28c8-8e80-418e-91f9-07fd713486a2"
      },
      "execution_count": null,
      "outputs": [
        {
          "output_type": "stream",
          "name": "stdout",
          "text": [
            "Using downloaded and verified file: ./oxford-102-flowers.tgz\n"
          ]
        }
      ]
    },
    {
      "cell_type": "code",
      "source": [
        "# 1st transformer model\n",
        "# at first just copy"
      ],
      "metadata": {
        "id": "HyQB33y5xIsx"
      },
      "execution_count": null,
      "outputs": []
    },
    {
      "cell_type": "code",
      "source": [
        "# 1st cnn model\n",
        "# at first just copy"
      ],
      "metadata": {
        "id": "GYZUCOr0xKoN"
      },
      "execution_count": null,
      "outputs": []
    },
    {
      "cell_type": "code",
      "source": [
        "# 2nd transfer model\n",
        "# at first just copy"
      ],
      "metadata": {
        "id": "pg4UxiStxL-f"
      },
      "execution_count": null,
      "outputs": []
    },
    {
      "cell_type": "code",
      "source": [
        "# 2nd cnn model\n",
        "# at first just copy"
      ],
      "metadata": {
        "id": "lg80g-1JxNdr"
      },
      "execution_count": null,
      "outputs": []
    },
    {
      "cell_type": "code",
      "source": [
        "# combine models"
      ],
      "metadata": {
        "id": "gE1rRLGgxu3G"
      },
      "execution_count": null,
      "outputs": []
    },
    {
      "cell_type": "code",
      "source": [
        "# top-1 accuracy"
      ],
      "metadata": {
        "id": "EcXZ8poSxNcT"
      },
      "execution_count": null,
      "outputs": []
    },
    {
      "cell_type": "code",
      "source": [
        "# attention map"
      ],
      "metadata": {
        "id": "HFYzzO7lxTVf"
      },
      "execution_count": null,
      "outputs": []
    },
    {
      "cell_type": "code",
      "source": [
        "# main trainer"
      ],
      "metadata": {
        "id": "xQwSG784xHa3"
      },
      "execution_count": null,
      "outputs": []
    },
    {
      "cell_type": "code",
      "source": [
        "!git clone https://github.com/facebookresearch/pycls\n",
        "\n"
      ],
      "metadata": {
        "colab": {
          "base_uri": "https://localhost:8080/"
        },
        "id": "JncauLVSN6TG",
        "outputId": "2e344f3b-170d-4286-a191-66be4b7d3fc9"
      },
      "execution_count": null,
      "outputs": [
        {
          "output_type": "stream",
          "name": "stdout",
          "text": [
            "Cloning into 'pycls'...\n",
            "remote: Enumerating objects: 1269, done.\u001b[K\n",
            "remote: Counting objects: 100% (26/26), done.\u001b[K\n",
            "remote: Compressing objects: 100% (22/22), done.\u001b[K\n",
            "remote: Total 1269 (delta 9), reused 12 (delta 4), pack-reused 1243\u001b[K\n",
            "Receiving objects: 100% (1269/1269), 976.56 KiB | 19.53 MiB/s, done.\n",
            "Resolving deltas: 100% (830/830), done.\n"
          ]
        }
      ]
    },
    {
      "cell_type": "code",
      "source": [
        "!pip install -r requirements.txt"
      ],
      "metadata": {
        "colab": {
          "base_uri": "https://localhost:8080/"
        },
        "id": "JtyWxRvfOUOb",
        "outputId": "8ceb86e7-c571-4e22-f904-fd14ef6cfcff"
      },
      "execution_count": null,
      "outputs": [
        {
          "output_type": "stream",
          "name": "stdout",
          "text": [
            "\u001b[31mERROR: Could not open requirements file: [Errno 2] No such file or directory: 'requirements.txt'\u001b[0m\u001b[31m\n",
            "\u001b[0m"
          ]
        }
      ]
    },
    {
      "cell_type": "code",
      "source": [
        "#!/usr/bin/env python3\n",
        "\n",
        "# Copyright (c) Facebook, Inc. and its affiliates.\n",
        "#\n",
        "# This source code is licensed under the MIT license found in the\n",
        "# LICENSE file in the root directory of this source tree.\n",
        "\n",
        "\"\"\"ResNe(X)t models.\"\"\"\n",
        "\n",
        "from pycls.core.config import cfg\n",
        "from pycls.models.blocks import (\n",
        "    activation,\n",
        "    conv2d,\n",
        "    conv2d_cx,\n",
        "    gap2d,\n",
        "    gap2d_cx,\n",
        "    init_weights,\n",
        "    linear,\n",
        "    linear_cx,\n",
        "    norm2d,\n",
        "    norm2d_cx,\n",
        "    pool2d,\n",
        "    pool2d_cx,\n",
        ")\n",
        "from torch.nn import Module\n",
        "\n",
        "\n",
        "# Stage depths for ImageNet models\n",
        "_IN_STAGE_DS = {50: (3, 4, 6, 3), 101: (3, 4, 23, 3), 152: (3, 8, 36, 3)}\n",
        "\n",
        "\n",
        "def get_trans_fun(name):\n",
        "    \"\"\"Retrieves the transformation function by name.\"\"\"\n",
        "    trans_funs = {\n",
        "        \"basic_transform\": BasicTransform,\n",
        "        \"bottleneck_transform\": BottleneckTransform,\n",
        "    }\n",
        "    err_str = \"Transformation function '{}' not supported\"\n",
        "    assert name in trans_funs.keys(), err_str.format(name)\n",
        "    return trans_funs[name]\n",
        "\n",
        "\n",
        "class ResHead(Module):\n",
        "    \"\"\"ResNet head: AvgPool, 1x1.\"\"\"\n",
        "\n",
        "    def __init__(self, w_in, num_classes):\n",
        "        super(ResHead, self).__init__()\n",
        "        self.avg_pool = gap2d(w_in)\n",
        "        self.fc = linear(w_in, num_classes, bias=True)\n",
        "\n",
        "    def forward(self, x):\n",
        "        x = self.avg_pool(x)\n",
        "        x = x.view(x.size(0), -1)\n",
        "        x = self.fc(x)\n",
        "        return x\n",
        "\n",
        "    @staticmethod\n",
        "    def complexity(cx, w_in, num_classes):\n",
        "        cx = gap2d_cx(cx, w_in)\n",
        "        cx = linear_cx(cx, w_in, num_classes, bias=True)\n",
        "        return cx\n",
        "\n",
        "\n",
        "class BasicTransform(Module):\n",
        "    \"\"\"Basic transformation: 3x3, BN, AF, 3x3, BN.\"\"\"\n",
        "\n",
        "    def __init__(self, w_in, w_out, stride, w_b=None, groups=1):\n",
        "        err_str = \"Basic transform does not support w_b and groups options\"\n",
        "        assert w_b is None and groups == 1, err_str\n",
        "        super(BasicTransform, self).__init__()\n",
        "        self.a = conv2d(w_in, w_out, 3, stride=stride)\n",
        "        self.a_bn = norm2d(w_out)\n",
        "        self.a_af = activation()\n",
        "        self.b = conv2d(w_out, w_out, 3)\n",
        "        self.b_bn = norm2d(w_out)\n",
        "        self.b_bn.final_bn = True\n",
        "\n",
        "    def forward(self, x):\n",
        "        for layer in self.children():\n",
        "            x = layer(x)\n",
        "        return x\n",
        "\n",
        "    @staticmethod\n",
        "    def complexity(cx, w_in, w_out, stride, w_b=None, groups=1):\n",
        "        err_str = \"Basic transform does not support w_b and groups options\"\n",
        "        assert w_b is None and groups == 1, err_str\n",
        "        cx = conv2d_cx(cx, w_in, w_out, 3, stride=stride)\n",
        "        cx = norm2d_cx(cx, w_out)\n",
        "        cx = conv2d_cx(cx, w_out, w_out, 3)\n",
        "        cx = norm2d_cx(cx, w_out)\n",
        "        return cx\n",
        "\n",
        "\n",
        "class BottleneckTransform(Module):\n",
        "    \"\"\"Bottleneck transformation: 1x1, BN, AF, 3x3, BN, AF, 1x1, BN.\"\"\"\n",
        "\n",
        "    def __init__(self, w_in, w_out, stride, w_b, groups):\n",
        "        super(BottleneckTransform, self).__init__()\n",
        "        # MSRA -> stride=2 is on 1x1; TH/C2 -> stride=2 is on 3x3\n",
        "        (s1, s3) = (stride, 1) if cfg.RESNET.STRIDE_1X1 else (1, stride)\n",
        "        self.a = conv2d(w_in, w_b, 1, stride=s1)\n",
        "        self.a_bn = norm2d(w_b)\n",
        "        self.a_af = activation()\n",
        "        self.b = conv2d(w_b, w_b, 3, stride=s3, groups=groups)\n",
        "        self.b_bn = norm2d(w_b)\n",
        "        self.b_af = activation()\n",
        "        self.c = conv2d(w_b, w_out, 1)\n",
        "        self.c_bn = norm2d(w_out)\n",
        "        self.c_bn.final_bn = True\n",
        "\n",
        "    def forward(self, x):\n",
        "        for layer in self.children():\n",
        "            x = layer(x)\n",
        "        return x\n",
        "\n",
        "    @staticmethod\n",
        "    def complexity(cx, w_in, w_out, stride, w_b, groups):\n",
        "        (s1, s3) = (stride, 1) if cfg.RESNET.STRIDE_1X1 else (1, stride)\n",
        "        cx = conv2d_cx(cx, w_in, w_b, 1, stride=s1)\n",
        "        cx = norm2d_cx(cx, w_b)\n",
        "        cx = conv2d_cx(cx, w_b, w_b, 3, stride=s3, groups=groups)\n",
        "        cx = norm2d_cx(cx, w_b)\n",
        "        cx = conv2d_cx(cx, w_b, w_out, 1)\n",
        "        cx = norm2d_cx(cx, w_out)\n",
        "        return cx\n",
        "\n",
        "\n",
        "class ResBlock(Module):\n",
        "    \"\"\"Residual block: x + f(x).\"\"\"\n",
        "\n",
        "    def __init__(self, w_in, w_out, stride, trans_fun, w_b=None, groups=1):\n",
        "        super(ResBlock, self).__init__()\n",
        "        self.proj, self.bn = None, None\n",
        "        if (w_in != w_out) or (stride != 1):\n",
        "            self.proj = conv2d(w_in, w_out, 1, stride=stride)\n",
        "            self.bn = norm2d(w_out)\n",
        "        self.f = trans_fun(w_in, w_out, stride, w_b, groups)\n",
        "        self.af = activation()\n",
        "\n",
        "    def forward(self, x):\n",
        "        x_p = self.bn(self.proj(x)) if self.proj else x\n",
        "        return self.af(x_p + self.f(x))\n",
        "\n",
        "    @staticmethod\n",
        "    def complexity(cx, w_in, w_out, stride, trans_fun, w_b, groups):\n",
        "        if (w_in != w_out) or (stride != 1):\n",
        "            h, w = cx[\"h\"], cx[\"w\"]\n",
        "            cx = conv2d_cx(cx, w_in, w_out, 1, stride=stride)\n",
        "            cx = norm2d_cx(cx, w_out)\n",
        "            cx[\"h\"], cx[\"w\"] = h, w\n",
        "        cx = trans_fun.complexity(cx, w_in, w_out, stride, w_b, groups)\n",
        "        return cx\n",
        "\n",
        "\n",
        "class ResStage(Module):\n",
        "    \"\"\"Stage of ResNet.\"\"\"\n",
        "\n",
        "    def __init__(self, w_in, w_out, stride, d, w_b=None, groups=1):\n",
        "        super(ResStage, self).__init__()\n",
        "        for i in range(d):\n",
        "            b_stride = stride if i == 0 else 1\n",
        "            b_w_in = w_in if i == 0 else w_out\n",
        "            trans_fun = get_trans_fun(cfg.RESNET.TRANS_FUN)\n",
        "            res_block = ResBlock(b_w_in, w_out, b_stride, trans_fun, w_b, groups)\n",
        "            self.add_module(\"b{}\".format(i + 1), res_block)\n",
        "\n",
        "    def forward(self, x):\n",
        "        for block in self.children():\n",
        "            x = block(x)\n",
        "        return x\n",
        "\n",
        "    @staticmethod\n",
        "    def complexity(cx, w_in, w_out, stride, d, w_b=None, groups=1):\n",
        "        for i in range(d):\n",
        "            b_stride = stride if i == 0 else 1\n",
        "            b_w_in = w_in if i == 0 else w_out\n",
        "            trans_f = get_trans_fun(cfg.RESNET.TRANS_FUN)\n",
        "            cx = ResBlock.complexity(cx, b_w_in, w_out, b_stride, trans_f, w_b, groups)\n",
        "        return cx\n",
        "\n",
        "\n",
        "class ResStemCifar(Module):\n",
        "    \"\"\"ResNet stem for CIFAR: 3x3, BN, AF.\"\"\"\n",
        "\n",
        "    def __init__(self, w_in, w_out):\n",
        "        super(ResStemCifar, self).__init__()\n",
        "        self.conv = conv2d(w_in, w_out, 3)\n",
        "        self.bn = norm2d(w_out)\n",
        "        self.af = activation()\n",
        "\n",
        "    def forward(self, x):\n",
        "        for layer in self.children():\n",
        "            x = layer(x)\n",
        "        return x\n",
        "\n",
        "    @staticmethod\n",
        "    def complexity(cx, w_in, w_out):\n",
        "        cx = conv2d_cx(cx, w_in, w_out, 3)\n",
        "        cx = norm2d_cx(cx, w_out)\n",
        "        return cx\n",
        "\n",
        "\n",
        "class ResStemIN(Module):\n",
        "    \"\"\"ResNet stem for ImageNet: 7x7, BN, AF, MaxPool.\"\"\"\n",
        "\n",
        "    def __init__(self, w_in, w_out):\n",
        "        super(ResStemIN, self).__init__()\n",
        "        self.conv = conv2d(w_in, w_out, 7, stride=2)\n",
        "        self.bn = norm2d(w_out)\n",
        "        self.af = activation()\n",
        "        self.pool = pool2d(w_out, 3, stride=2)\n",
        "\n",
        "    def forward(self, x):\n",
        "        for layer in self.children():\n",
        "            x = layer(x)\n",
        "        return x\n",
        "\n",
        "    @staticmethod\n",
        "    def complexity(cx, w_in, w_out):\n",
        "        cx = conv2d_cx(cx, w_in, w_out, 7, stride=2)\n",
        "        cx = norm2d_cx(cx, w_out)\n",
        "        cx = pool2d_cx(cx, w_out, 3, stride=2)\n",
        "        return cx\n",
        "\n",
        "\n",
        "class ResNet(Module):\n",
        "    \"\"\"ResNet model.\"\"\"\n",
        "\n",
        "    def __init__(self):\n",
        "        datasets = [\"cifar10\", \"imagenet\"]\n",
        "        err_str = \"Dataset {} is not supported\"\n",
        "        assert cfg.TRAIN.DATASET in datasets, err_str.format(cfg.TRAIN.DATASET)\n",
        "        assert cfg.TEST.DATASET in datasets, err_str.format(cfg.TEST.DATASET)\n",
        "        super(ResNet, self).__init__()\n",
        "        if \"cifar\" in cfg.TRAIN.DATASET:\n",
        "            self._construct_cifar()\n",
        "        else:\n",
        "            self._construct_imagenet()\n",
        "        self.apply(init_weights)\n",
        "\n",
        "    def _construct_cifar(self):\n",
        "        err_str = \"Model depth should be of the format 6n + 2 for cifar\"\n",
        "        assert (cfg.MODEL.DEPTH - 2) % 6 == 0, err_str\n",
        "        d = int((cfg.MODEL.DEPTH - 2) / 6)\n",
        "        self.stem = ResStemCifar(3, 16)\n",
        "        self.s1 = ResStage(16, 16, stride=1, d=d)\n",
        "        self.s2 = ResStage(16, 32, stride=2, d=d)\n",
        "        self.s3 = ResStage(32, 64, stride=2, d=d)\n",
        "        self.head = ResHead(64, cfg.MODEL.NUM_CLASSES)\n",
        "\n",
        "    def _construct_imagenet(self):\n",
        "        g, gw = cfg.RESNET.NUM_GROUPS, cfg.RESNET.WIDTH_PER_GROUP\n",
        "        (d1, d2, d3, d4) = _IN_STAGE_DS[cfg.MODEL.DEPTH]\n",
        "        w_b = gw * g\n",
        "        self.stem = ResStemIN(3, 64)\n",
        "        self.s1 = ResStage(64, 256, stride=1, d=d1, w_b=w_b, groups=g)\n",
        "        self.s2 = ResStage(256, 512, stride=2, d=d2, w_b=w_b * 2, groups=g)\n",
        "        self.s3 = ResStage(512, 1024, stride=2, d=d3, w_b=w_b * 4, groups=g)\n",
        "        self.s4 = ResStage(1024, 2048, stride=2, d=d4, w_b=w_b * 8, groups=g)\n",
        "        self.head = ResHead(2048, cfg.MODEL.NUM_CLASSES)\n",
        "\n",
        "    def forward(self, x):\n",
        "        for module in self.children():\n",
        "            x = module(x)\n",
        "        return x\n",
        "\n",
        "    @staticmethod\n",
        "    def complexity(cx):\n",
        "        \"\"\"Computes model complexity. If you alter the model, make sure to update.\"\"\"\n",
        "        if \"cifar\" in cfg.TRAIN.DATASET:\n",
        "            d = int((cfg.MODEL.DEPTH - 2) / 6)\n",
        "            cx = ResStemCifar.complexity(cx, 3, 16)\n",
        "            cx = ResStage.complexity(cx, 16, 16, stride=1, d=d)\n",
        "            cx = ResStage.complexity(cx, 16, 32, stride=2, d=d)\n",
        "            cx = ResStage.complexity(cx, 32, 64, stride=2, d=d)\n",
        "            cx = ResHead.complexity(cx, 64, cfg.MODEL.NUM_CLASSES)\n",
        "        else:\n",
        "            g, gw = cfg.RESNET.NUM_GROUPS, cfg.RESNET.WIDTH_PER_GROUP\n",
        "            (d1, d2, d3, d4) = _IN_STAGE_DS[cfg.MODEL.DEPTH]\n",
        "            w_b = gw * g\n",
        "            cx = ResStemIN.complexity(cx, 3, 64)\n",
        "            cx = ResStage.complexity(cx, 64, 256, 1, d=d1, w_b=w_b, groups=g)\n",
        "            cx = ResStage.complexity(cx, 256, 512, 2, d=d2, w_b=w_b * 2, groups=g)\n",
        "            cx = ResStage.complexity(cx, 512, 1024, 2, d=d3, w_b=w_b * 4, groups=g)\n",
        "            cx = ResStage.complexity(cx, 1024, 2048, 2, d=d4, w_b=w_b * 8, groups=g)\n",
        "            cx = ResHead.complexity(cx, 2048, cfg.MODEL.NUM_CLASSES)\n",
        "        return cx"
      ],
      "metadata": {
        "colab": {
          "base_uri": "https://localhost:8080/",
          "height": 373
        },
        "id": "DJATgahFNqMc",
        "outputId": "7fe0569c-32fa-479b-d01f-852d229dfe8c"
      },
      "execution_count": null,
      "outputs": [
        {
          "output_type": "error",
          "ename": "ModuleNotFoundError",
          "evalue": "ignored",
          "traceback": [
            "\u001b[0;31m---------------------------------------------------------------------------\u001b[0m",
            "\u001b[0;31mModuleNotFoundError\u001b[0m                       Traceback (most recent call last)",
            "\u001b[0;32m<ipython-input-14-6c9a53e588b6>\u001b[0m in \u001b[0;36m<cell line: 11>\u001b[0;34m()\u001b[0m\n\u001b[1;32m      9\u001b[0m \u001b[0;34m\u001b[0m\u001b[0m\n\u001b[1;32m     10\u001b[0m \u001b[0;32mfrom\u001b[0m \u001b[0mpycls\u001b[0m\u001b[0;34m.\u001b[0m\u001b[0mcore\u001b[0m\u001b[0;34m.\u001b[0m\u001b[0mconfig\u001b[0m \u001b[0;32mimport\u001b[0m \u001b[0mcfg\u001b[0m\u001b[0;34m\u001b[0m\u001b[0;34m\u001b[0m\u001b[0m\n\u001b[0;32m---> 11\u001b[0;31m from pycls.models.blocks import (\n\u001b[0m\u001b[1;32m     12\u001b[0m     \u001b[0mactivation\u001b[0m\u001b[0;34m,\u001b[0m\u001b[0;34m\u001b[0m\u001b[0;34m\u001b[0m\u001b[0m\n\u001b[1;32m     13\u001b[0m     \u001b[0mconv2d\u001b[0m\u001b[0;34m,\u001b[0m\u001b[0;34m\u001b[0m\u001b[0;34m\u001b[0m\u001b[0m\n",
            "\u001b[0;31mModuleNotFoundError\u001b[0m: No module named 'pycls.models.blocks'",
            "",
            "\u001b[0;31m---------------------------------------------------------------------------\u001b[0;32m\nNOTE: If your import is failing due to a missing package, you can\nmanually install dependencies using either !pip or !apt.\n\nTo view examples of installing some common dependencies, click the\n\"Open Examples\" button below.\n\u001b[0;31m---------------------------------------------------------------------------\u001b[0m\n"
          ],
          "errorDetails": {
            "actions": [
              {
                "action": "open_url",
                "actionText": "Open Examples",
                "url": "/notebooks/snippets/importing_libraries.ipynb"
              }
            ]
          }
        }
      ]
    }
  ]
}