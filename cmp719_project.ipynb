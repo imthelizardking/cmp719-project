{
  "nbformat": 4,
  "nbformat_minor": 0,
  "metadata": {
    "colab": {
      "provenance": [],
      "authorship_tag": "ABX9TyMw3ECielqNcUSg4YGb/z8E",
      "include_colab_link": true
    },
    "kernelspec": {
      "name": "python3",
      "display_name": "Python 3"
    },
    "language_info": {
      "name": "python"
    }
  },
  "cells": [
    {
      "cell_type": "markdown",
      "metadata": {
        "id": "view-in-github",
        "colab_type": "text"
      },
      "source": [
        "<a href=\"https://colab.research.google.com/github/imthelizardking/cmp719-project/blob/main/cmp719_project.ipynb\" target=\"_parent\"><img src=\"https://colab.research.google.com/assets/colab-badge.svg\" alt=\"Open In Colab\"/></a>"
      ]
    },
    {
      "cell_type": "markdown",
      "source": [
        "Dependencies"
      ],
      "metadata": {
        "id": "yIKF3i36LiIt"
      }
    },
    {
      "cell_type": "code",
      "source": [
        "from google.colab import drive\n",
        "drive.mount('/content/drive')"
      ],
      "metadata": {
        "id": "TW5NkYdSO-oE",
        "outputId": "8a176e5f-a972-4476-ad8d-4c342888cf8f",
        "colab": {
          "base_uri": "https://localhost:8080/"
        }
      },
      "execution_count": null,
      "outputs": [
        {
          "output_type": "stream",
          "name": "stdout",
          "text": [
            "Mounted at /content/drive\n"
          ]
        }
      ]
    },
    {
      "cell_type": "code",
      "source": [
        "# set path for files in gdrive\n",
        "%cd drive/My Drive/719_project\n",
        "!ls"
      ],
      "metadata": {
        "id": "KMnF_c-pPK4Q"
      },
      "execution_count": null,
      "outputs": []
    },
    {
      "cell_type": "code",
      "source": [
        "# Imports\n",
        "import math\n",
        "import torch\n",
        "import torch.nn as nn\n",
        "import torch.nn.functional as F # idk"
      ],
      "metadata": {
        "id": "HHzYcamIDY0U"
      },
      "execution_count": null,
      "outputs": []
    },
    {
      "cell_type": "code",
      "source": [
        "# T2T-ViT\n",
        "class TT2T_ViT(nn.Module):\n",
        "\n",
        "    def __init__(self, ntoken, ninp, nhead, nhid, nlayers, dropout=0.5):\n",
        "\n",
        "\n",
        "    def init_weights(self):\n",
        "\n",
        "\n",
        "    def forward(self, src):\n",
        "        return output"
      ],
      "metadata": {
        "id": "9bZq_mKMDfE5"
      },
      "execution_count": null,
      "outputs": []
    },
    {
      "cell_type": "markdown",
      "source": [
        "LOOOOOOOOOOONGGGGGGGGGGGGGGGGGGG BREEAKKKKKKKKKKKKKKKKKKKKKKKKKKKKKKK\n",
        "LOOOOOOOOOOONGGGGGGGGGGGGGGGGGGG BREEAKKKKKKKKKKKKKKKKKKKKKKKKKKKKKKK\n",
        "LOOOOOOOOOOONGGGGGGGGGGGGGGGGGGG BREEAKKKKKKKKKKKKKKKKKKKKKKKKKKKKKKK\n",
        "LOOOOOOOOOOONGGGGGGGGGGGGGGGGGGG BREEAKKKKKKKKKKKKKKKKKKKKKKKKKKKKKKK\n",
        "LOOOOOOOOOOONGGGGGGGGGGGGGGGGGGG BREEAKKKKKKKKKKKKKKKKKKKKKKKKKKKKKKK\n",
        "LOOOOOOOOOOONGGGGGGGGGGGGGGGGGGG BREEAKKKKKKKKKKKKKKKKKKKKKKKKKKKKKKK\n",
        "LOOOOOOOOOOONGGGGGGGGGGGGGGGGGGG BREEAKKKKKKKKKKKKKKKKKKKKKKKKKKKKKKK\n",
        "LOOOOOOOOOOONGGGGGGGGGGGGGGGGGGG BREEAKKKKKKKKKKKKKKKKKKKKKKKKKKKKKKK\n",
        "LOOOOOOOOOOONGGGGGGGGGGGGGGGGGGG BREEAKKKKKKKKKKKKKKKKKKKKKKKKKKKKKKK\n",
        "LOOOOOOOOOOONGGGGGGGGGGGGGGGGGGG BREEAKKKKKKKKKKKKKKKKKKKKKKKKKKKKKKK\n",
        "LOOOOOOOOOOONGGGGGGGGGGGGGGGGGGG BREEAKKKKKKKKKKKKKKKKKKKKKKKKKKKKKKK\n",
        "LOOOOOOOOOOONGGGGGGGGGGGGGGGGGGG BREEAKKKKKKKKKKKKKKKKKKKKKKKKKKKKKKK"
      ],
      "metadata": {
        "id": "3F6zX4lfDTtr"
      }
    },
    {
      "cell_type": "code",
      "source": [
        "# cifar100\n",
        "cifar100 = tf.keras.datasets.cifar100\n",
        "(X_train_cifar,Y_train_cifar) , (X_test_cifar,Y_test_cifar) = cifar100.load_data()"
      ],
      "metadata": {
        "id": "BGSGJ9fixFgz"
      },
      "execution_count": null,
      "outputs": []
    },
    {
      "cell_type": "code",
      "source": [
        "# oxford flowers\n"
      ],
      "metadata": {
        "id": "3ehb0zl_xGgd",
        "colab": {
          "base_uri": "https://localhost:8080/"
        },
        "outputId": "145b28c8-8e80-418e-91f9-07fd713486a2"
      },
      "execution_count": null,
      "outputs": [
        {
          "output_type": "stream",
          "name": "stdout",
          "text": [
            "Using downloaded and verified file: ./oxford-102-flowers.tgz\n"
          ]
        }
      ]
    },
    {
      "cell_type": "code",
      "source": [
        "# 1st transformer model\n",
        "# at first just copy"
      ],
      "metadata": {
        "id": "HyQB33y5xIsx"
      },
      "execution_count": null,
      "outputs": []
    },
    {
      "cell_type": "code",
      "source": [
        "# 1st cnn model\n",
        "# at first just copy"
      ],
      "metadata": {
        "id": "GYZUCOr0xKoN"
      },
      "execution_count": null,
      "outputs": []
    },
    {
      "cell_type": "code",
      "source": [
        "# 2nd transfer model\n",
        "# at first just copy"
      ],
      "metadata": {
        "id": "pg4UxiStxL-f"
      },
      "execution_count": null,
      "outputs": []
    },
    {
      "cell_type": "code",
      "source": [
        "# 2nd cnn model\n",
        "# at first just copy"
      ],
      "metadata": {
        "id": "lg80g-1JxNdr"
      },
      "execution_count": null,
      "outputs": []
    },
    {
      "cell_type": "code",
      "source": [
        "# combine models"
      ],
      "metadata": {
        "id": "gE1rRLGgxu3G"
      },
      "execution_count": null,
      "outputs": []
    },
    {
      "cell_type": "code",
      "source": [
        "# top-1 accuracy"
      ],
      "metadata": {
        "id": "EcXZ8poSxNcT"
      },
      "execution_count": null,
      "outputs": []
    },
    {
      "cell_type": "code",
      "source": [
        "# attention map"
      ],
      "metadata": {
        "id": "HFYzzO7lxTVf"
      },
      "execution_count": null,
      "outputs": []
    },
    {
      "cell_type": "code",
      "source": [
        "# main trainer"
      ],
      "metadata": {
        "id": "xQwSG784xHa3"
      },
      "execution_count": null,
      "outputs": []
    },
    {
      "cell_type": "code",
      "source": [
        "!git clone https://github.com/facebookresearch/pycls\n",
        "\n"
      ],
      "metadata": {
        "colab": {
          "base_uri": "https://localhost:8080/"
        },
        "id": "JncauLVSN6TG",
        "outputId": "2e344f3b-170d-4286-a191-66be4b7d3fc9"
      },
      "execution_count": null,
      "outputs": [
        {
          "output_type": "stream",
          "name": "stdout",
          "text": [
            "Cloning into 'pycls'...\n",
            "remote: Enumerating objects: 1269, done.\u001b[K\n",
            "remote: Counting objects: 100% (26/26), done.\u001b[K\n",
            "remote: Compressing objects: 100% (22/22), done.\u001b[K\n",
            "remote: Total 1269 (delta 9), reused 12 (delta 4), pack-reused 1243\u001b[K\n",
            "Receiving objects: 100% (1269/1269), 976.56 KiB | 19.53 MiB/s, done.\n",
            "Resolving deltas: 100% (830/830), done.\n"
          ]
        }
      ]
    },
    {
      "cell_type": "code",
      "source": [
        "!pip install -r requirements.txt"
      ],
      "metadata": {
        "colab": {
          "base_uri": "https://localhost:8080/"
        },
        "id": "JtyWxRvfOUOb",
        "outputId": "8ceb86e7-c571-4e22-f904-fd14ef6cfcff"
      },
      "execution_count": null,
      "outputs": [
        {
          "output_type": "stream",
          "name": "stdout",
          "text": [
            "\u001b[31mERROR: Could not open requirements file: [Errno 2] No such file or directory: 'requirements.txt'\u001b[0m\u001b[31m\n",
            "\u001b[0m"
          ]
        }
      ]
    },
    {
      "cell_type": "code",
      "source": [
        "#!/usr/bin/env python3\n",
        "\n",
        "# Copyright (c) Facebook, Inc. and its affiliates.\n",
        "#\n",
        "# This source code is licensed under the MIT license found in the\n",
        "# LICENSE file in the root directory of this source tree.\n",
        "\n",
        "\"\"\"ResNe(X)t models.\"\"\"\n",
        "\n",
        "from pycls.core.config import cfg\n",
        "from pycls.models.blocks import (\n",
        "    activation,\n",
        "    conv2d,\n",
        "    conv2d_cx,\n",
        "    gap2d,\n",
        "    gap2d_cx,\n",
        "    init_weights,\n",
        "    linear,\n",
        "    linear_cx,\n",
        "    norm2d,\n",
        "    norm2d_cx,\n",
        "    pool2d,\n",
        "    pool2d_cx,\n",
        ")\n",
        "from torch.nn import Module\n",
        "\n",
        "\n",
        "# Stage depths for ImageNet models\n",
        "_IN_STAGE_DS = {50: (3, 4, 6, 3), 101: (3, 4, 23, 3), 152: (3, 8, 36, 3)}\n",
        "\n",
        "\n",
        "def get_trans_fun(name):\n",
        "    \"\"\"Retrieves the transformation function by name.\"\"\"\n",
        "    trans_funs = {\n",
        "        \"basic_transform\": BasicTransform,\n",
        "        \"bottleneck_transform\": BottleneckTransform,\n",
        "    }\n",
        "    err_str = \"Transformation function '{}' not supported\"\n",
        "    assert name in trans_funs.keys(), err_str.format(name)\n",
        "    return trans_funs[name]\n",
        "\n",
        "\n",
        "class ResHead(Module):\n",
        "    \"\"\"ResNet head: AvgPool, 1x1.\"\"\"\n",
        "\n",
        "    def __init__(self, w_in, num_classes):\n",
        "        super(ResHead, self).__init__()\n",
        "        self.avg_pool = gap2d(w_in)\n",
        "        self.fc = linear(w_in, num_classes, bias=True)\n",
        "\n",
        "    def forward(self, x):\n",
        "        x = self.avg_pool(x)\n",
        "        x = x.view(x.size(0), -1)\n",
        "        x = self.fc(x)\n",
        "        return x\n",
        "\n",
        "    @staticmethod\n",
        "    def complexity(cx, w_in, num_classes):\n",
        "        cx = gap2d_cx(cx, w_in)\n",
        "        cx = linear_cx(cx, w_in, num_classes, bias=True)\n",
        "        return cx\n",
        "\n",
        "\n",
        "class BasicTransform(Module):\n",
        "    \"\"\"Basic transformation: 3x3, BN, AF, 3x3, BN.\"\"\"\n",
        "\n",
        "    def __init__(self, w_in, w_out, stride, w_b=None, groups=1):\n",
        "        err_str = \"Basic transform does not support w_b and groups options\"\n",
        "        assert w_b is None and groups == 1, err_str\n",
        "        super(BasicTransform, self).__init__()\n",
        "        self.a = conv2d(w_in, w_out, 3, stride=stride)\n",
        "        self.a_bn = norm2d(w_out)\n",
        "        self.a_af = activation()\n",
        "        self.b = conv2d(w_out, w_out, 3)\n",
        "        self.b_bn = norm2d(w_out)\n",
        "        self.b_bn.final_bn = True\n",
        "\n",
        "    def forward(self, x):\n",
        "        for layer in self.children():\n",
        "            x = layer(x)\n",
        "        return x\n",
        "\n",
        "    @staticmethod\n",
        "    def complexity(cx, w_in, w_out, stride, w_b=None, groups=1):\n",
        "        err_str = \"Basic transform does not support w_b and groups options\"\n",
        "        assert w_b is None and groups == 1, err_str\n",
        "        cx = conv2d_cx(cx, w_in, w_out, 3, stride=stride)\n",
        "        cx = norm2d_cx(cx, w_out)\n",
        "        cx = conv2d_cx(cx, w_out, w_out, 3)\n",
        "        cx = norm2d_cx(cx, w_out)\n",
        "        return cx\n",
        "\n",
        "\n",
        "class BottleneckTransform(Module):\n",
        "    \"\"\"Bottleneck transformation: 1x1, BN, AF, 3x3, BN, AF, 1x1, BN.\"\"\"\n",
        "\n",
        "    def __init__(self, w_in, w_out, stride, w_b, groups):\n",
        "        super(BottleneckTransform, self).__init__()\n",
        "        # MSRA -> stride=2 is on 1x1; TH/C2 -> stride=2 is on 3x3\n",
        "        (s1, s3) = (stride, 1) if cfg.RESNET.STRIDE_1X1 else (1, stride)\n",
        "        self.a = conv2d(w_in, w_b, 1, stride=s1)\n",
        "        self.a_bn = norm2d(w_b)\n",
        "        self.a_af = activation()\n",
        "        self.b = conv2d(w_b, w_b, 3, stride=s3, groups=groups)\n",
        "        self.b_bn = norm2d(w_b)\n",
        "        self.b_af = activation()\n",
        "        self.c = conv2d(w_b, w_out, 1)\n",
        "        self.c_bn = norm2d(w_out)\n",
        "        self.c_bn.final_bn = True\n",
        "\n",
        "    def forward(self, x):\n",
        "        for layer in self.children():\n",
        "            x = layer(x)\n",
        "        return x\n",
        "\n",
        "    @staticmethod\n",
        "    def complexity(cx, w_in, w_out, stride, w_b, groups):\n",
        "        (s1, s3) = (stride, 1) if cfg.RESNET.STRIDE_1X1 else (1, stride)\n",
        "        cx = conv2d_cx(cx, w_in, w_b, 1, stride=s1)\n",
        "        cx = norm2d_cx(cx, w_b)\n",
        "        cx = conv2d_cx(cx, w_b, w_b, 3, stride=s3, groups=groups)\n",
        "        cx = norm2d_cx(cx, w_b)\n",
        "        cx = conv2d_cx(cx, w_b, w_out, 1)\n",
        "        cx = norm2d_cx(cx, w_out)\n",
        "        return cx\n",
        "\n",
        "\n",
        "class ResBlock(Module):\n",
        "    \"\"\"Residual block: x + f(x).\"\"\"\n",
        "\n",
        "    def __init__(self, w_in, w_out, stride, trans_fun, w_b=None, groups=1):\n",
        "        super(ResBlock, self).__init__()\n",
        "        self.proj, self.bn = None, None\n",
        "        if (w_in != w_out) or (stride != 1):\n",
        "            self.proj = conv2d(w_in, w_out, 1, stride=stride)\n",
        "            self.bn = norm2d(w_out)\n",
        "        self.f = trans_fun(w_in, w_out, stride, w_b, groups)\n",
        "        self.af = activation()\n",
        "\n",
        "    def forward(self, x):\n",
        "        x_p = self.bn(self.proj(x)) if self.proj else x\n",
        "        return self.af(x_p + self.f(x))\n",
        "\n",
        "    @staticmethod\n",
        "    def complexity(cx, w_in, w_out, stride, trans_fun, w_b, groups):\n",
        "        if (w_in != w_out) or (stride != 1):\n",
        "            h, w = cx[\"h\"], cx[\"w\"]\n",
        "            cx = conv2d_cx(cx, w_in, w_out, 1, stride=stride)\n",
        "            cx = norm2d_cx(cx, w_out)\n",
        "            cx[\"h\"], cx[\"w\"] = h, w\n",
        "        cx = trans_fun.complexity(cx, w_in, w_out, stride, w_b, groups)\n",
        "        return cx\n",
        "\n",
        "\n",
        "class ResStage(Module):\n",
        "    \"\"\"Stage of ResNet.\"\"\"\n",
        "\n",
        "    def __init__(self, w_in, w_out, stride, d, w_b=None, groups=1):\n",
        "        super(ResStage, self).__init__()\n",
        "        for i in range(d):\n",
        "            b_stride = stride if i == 0 else 1\n",
        "            b_w_in = w_in if i == 0 else w_out\n",
        "            trans_fun = get_trans_fun(cfg.RESNET.TRANS_FUN)\n",
        "            res_block = ResBlock(b_w_in, w_out, b_stride, trans_fun, w_b, groups)\n",
        "            self.add_module(\"b{}\".format(i + 1), res_block)\n",
        "\n",
        "    def forward(self, x):\n",
        "        for block in self.children():\n",
        "            x = block(x)\n",
        "        return x\n",
        "\n",
        "    @staticmethod\n",
        "    def complexity(cx, w_in, w_out, stride, d, w_b=None, groups=1):\n",
        "        for i in range(d):\n",
        "            b_stride = stride if i == 0 else 1\n",
        "            b_w_in = w_in if i == 0 else w_out\n",
        "            trans_f = get_trans_fun(cfg.RESNET.TRANS_FUN)\n",
        "            cx = ResBlock.complexity(cx, b_w_in, w_out, b_stride, trans_f, w_b, groups)\n",
        "        return cx\n",
        "\n",
        "\n",
        "class ResStemCifar(Module):\n",
        "    \"\"\"ResNet stem for CIFAR: 3x3, BN, AF.\"\"\"\n",
        "\n",
        "    def __init__(self, w_in, w_out):\n",
        "        super(ResStemCifar, self).__init__()\n",
        "        self.conv = conv2d(w_in, w_out, 3)\n",
        "        self.bn = norm2d(w_out)\n",
        "        self.af = activation()\n",
        "\n",
        "    def forward(self, x):\n",
        "        for layer in self.children():\n",
        "            x = layer(x)\n",
        "        return x\n",
        "\n",
        "    @staticmethod\n",
        "    def complexity(cx, w_in, w_out):\n",
        "        cx = conv2d_cx(cx, w_in, w_out, 3)\n",
        "        cx = norm2d_cx(cx, w_out)\n",
        "        return cx\n",
        "\n",
        "\n",
        "class ResStemIN(Module):\n",
        "    \"\"\"ResNet stem for ImageNet: 7x7, BN, AF, MaxPool.\"\"\"\n",
        "\n",
        "    def __init__(self, w_in, w_out):\n",
        "        super(ResStemIN, self).__init__()\n",
        "        self.conv = conv2d(w_in, w_out, 7, stride=2)\n",
        "        self.bn = norm2d(w_out)\n",
        "        self.af = activation()\n",
        "        self.pool = pool2d(w_out, 3, stride=2)\n",
        "\n",
        "    def forward(self, x):\n",
        "        for layer in self.children():\n",
        "            x = layer(x)\n",
        "        return x\n",
        "\n",
        "    @staticmethod\n",
        "    def complexity(cx, w_in, w_out):\n",
        "        cx = conv2d_cx(cx, w_in, w_out, 7, stride=2)\n",
        "        cx = norm2d_cx(cx, w_out)\n",
        "        cx = pool2d_cx(cx, w_out, 3, stride=2)\n",
        "        return cx\n",
        "\n",
        "\n",
        "class ResNet(Module):\n",
        "    \"\"\"ResNet model.\"\"\"\n",
        "\n",
        "    def __init__(self):\n",
        "        datasets = [\"cifar10\", \"imagenet\"]\n",
        "        err_str = \"Dataset {} is not supported\"\n",
        "        assert cfg.TRAIN.DATASET in datasets, err_str.format(cfg.TRAIN.DATASET)\n",
        "        assert cfg.TEST.DATASET in datasets, err_str.format(cfg.TEST.DATASET)\n",
        "        super(ResNet, self).__init__()\n",
        "        if \"cifar\" in cfg.TRAIN.DATASET:\n",
        "            self._construct_cifar()\n",
        "        else:\n",
        "            self._construct_imagenet()\n",
        "        self.apply(init_weights)\n",
        "\n",
        "    def _construct_cifar(self):\n",
        "        err_str = \"Model depth should be of the format 6n + 2 for cifar\"\n",
        "        assert (cfg.MODEL.DEPTH - 2) % 6 == 0, err_str\n",
        "        d = int((cfg.MODEL.DEPTH - 2) / 6)\n",
        "        self.stem = ResStemCifar(3, 16)\n",
        "        self.s1 = ResStage(16, 16, stride=1, d=d)\n",
        "        self.s2 = ResStage(16, 32, stride=2, d=d)\n",
        "        self.s3 = ResStage(32, 64, stride=2, d=d)\n",
        "        self.head = ResHead(64, cfg.MODEL.NUM_CLASSES)\n",
        "\n",
        "    def _construct_imagenet(self):\n",
        "        g, gw = cfg.RESNET.NUM_GROUPS, cfg.RESNET.WIDTH_PER_GROUP\n",
        "        (d1, d2, d3, d4) = _IN_STAGE_DS[cfg.MODEL.DEPTH]\n",
        "        w_b = gw * g\n",
        "        self.stem = ResStemIN(3, 64)\n",
        "        self.s1 = ResStage(64, 256, stride=1, d=d1, w_b=w_b, groups=g)\n",
        "        self.s2 = ResStage(256, 512, stride=2, d=d2, w_b=w_b * 2, groups=g)\n",
        "        self.s3 = ResStage(512, 1024, stride=2, d=d3, w_b=w_b * 4, groups=g)\n",
        "        self.s4 = ResStage(1024, 2048, stride=2, d=d4, w_b=w_b * 8, groups=g)\n",
        "        self.head = ResHead(2048, cfg.MODEL.NUM_CLASSES)\n",
        "\n",
        "    def forward(self, x):\n",
        "        for module in self.children():\n",
        "            x = module(x)\n",
        "        return x\n",
        "\n",
        "    @staticmethod\n",
        "    def complexity(cx):\n",
        "        \"\"\"Computes model complexity. If you alter the model, make sure to update.\"\"\"\n",
        "        if \"cifar\" in cfg.TRAIN.DATASET:\n",
        "            d = int((cfg.MODEL.DEPTH - 2) / 6)\n",
        "            cx = ResStemCifar.complexity(cx, 3, 16)\n",
        "            cx = ResStage.complexity(cx, 16, 16, stride=1, d=d)\n",
        "            cx = ResStage.complexity(cx, 16, 32, stride=2, d=d)\n",
        "            cx = ResStage.complexity(cx, 32, 64, stride=2, d=d)\n",
        "            cx = ResHead.complexity(cx, 64, cfg.MODEL.NUM_CLASSES)\n",
        "        else:\n",
        "            g, gw = cfg.RESNET.NUM_GROUPS, cfg.RESNET.WIDTH_PER_GROUP\n",
        "            (d1, d2, d3, d4) = _IN_STAGE_DS[cfg.MODEL.DEPTH]\n",
        "            w_b = gw * g\n",
        "            cx = ResStemIN.complexity(cx, 3, 64)\n",
        "            cx = ResStage.complexity(cx, 64, 256, 1, d=d1, w_b=w_b, groups=g)\n",
        "            cx = ResStage.complexity(cx, 256, 512, 2, d=d2, w_b=w_b * 2, groups=g)\n",
        "            cx = ResStage.complexity(cx, 512, 1024, 2, d=d3, w_b=w_b * 4, groups=g)\n",
        "            cx = ResStage.complexity(cx, 1024, 2048, 2, d=d4, w_b=w_b * 8, groups=g)\n",
        "            cx = ResHead.complexity(cx, 2048, cfg.MODEL.NUM_CLASSES)\n",
        "        return cx"
      ],
      "metadata": {
        "colab": {
          "base_uri": "https://localhost:8080/",
          "height": 373
        },
        "id": "DJATgahFNqMc",
        "outputId": "7fe0569c-32fa-479b-d01f-852d229dfe8c"
      },
      "execution_count": null,
      "outputs": [
        {
          "output_type": "error",
          "ename": "ModuleNotFoundError",
          "evalue": "ignored",
          "traceback": [
            "\u001b[0;31m---------------------------------------------------------------------------\u001b[0m",
            "\u001b[0;31mModuleNotFoundError\u001b[0m                       Traceback (most recent call last)",
            "\u001b[0;32m<ipython-input-14-6c9a53e588b6>\u001b[0m in \u001b[0;36m<cell line: 11>\u001b[0;34m()\u001b[0m\n\u001b[1;32m      9\u001b[0m \u001b[0;34m\u001b[0m\u001b[0m\n\u001b[1;32m     10\u001b[0m \u001b[0;32mfrom\u001b[0m \u001b[0mpycls\u001b[0m\u001b[0;34m.\u001b[0m\u001b[0mcore\u001b[0m\u001b[0;34m.\u001b[0m\u001b[0mconfig\u001b[0m \u001b[0;32mimport\u001b[0m \u001b[0mcfg\u001b[0m\u001b[0;34m\u001b[0m\u001b[0;34m\u001b[0m\u001b[0m\n\u001b[0;32m---> 11\u001b[0;31m from pycls.models.blocks import (\n\u001b[0m\u001b[1;32m     12\u001b[0m     \u001b[0mactivation\u001b[0m\u001b[0;34m,\u001b[0m\u001b[0;34m\u001b[0m\u001b[0;34m\u001b[0m\u001b[0m\n\u001b[1;32m     13\u001b[0m     \u001b[0mconv2d\u001b[0m\u001b[0;34m,\u001b[0m\u001b[0;34m\u001b[0m\u001b[0;34m\u001b[0m\u001b[0m\n",
            "\u001b[0;31mModuleNotFoundError\u001b[0m: No module named 'pycls.models.blocks'",
            "",
            "\u001b[0;31m---------------------------------------------------------------------------\u001b[0;32m\nNOTE: If your import is failing due to a missing package, you can\nmanually install dependencies using either !pip or !apt.\n\nTo view examples of installing some common dependencies, click the\n\"Open Examples\" button below.\n\u001b[0;31m---------------------------------------------------------------------------\u001b[0m\n"
          ],
          "errorDetails": {
            "actions": [
              {
                "action": "open_url",
                "actionText": "Open Examples",
                "url": "/notebooks/snippets/importing_libraries.ipynb"
              }
            ]
          }
        }
      ]
    }
  ]
}