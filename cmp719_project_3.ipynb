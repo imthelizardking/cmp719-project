{
  "nbformat": 4,
  "nbformat_minor": 0,
  "metadata": {
    "colab": {
      "provenance": [],
      "authorship_tag": "ABX9TyM7HXPaIycs6pw1B5+2kfU5",
      "include_colab_link": true
    },
    "kernelspec": {
      "name": "python3",
      "display_name": "Python 3"
    },
    "language_info": {
      "name": "python"
    }
  },
  "cells": [
    {
      "cell_type": "markdown",
      "metadata": {
        "id": "view-in-github",
        "colab_type": "text"
      },
      "source": [
        "<a href=\"https://colab.research.google.com/github/imthelizardking/cmp719-project/blob/main/cmp719_project_3.ipynb\" target=\"_parent\"><img src=\"https://colab.research.google.com/assets/colab-badge.svg\" alt=\"Open In Colab\"/></a>"
      ]
    },
    {
      "cell_type": "markdown",
      "source": [
        "Main text"
      ],
      "metadata": {
        "id": "2pVTmenRqaxR"
      }
    },
    {
      "cell_type": "markdown",
      "source": [
        "Connect to gdrive"
      ],
      "metadata": {
        "id": "byPXHODmqc8X"
      }
    },
    {
      "cell_type": "code",
      "execution_count": null,
      "metadata": {
        "id": "0e_NiHQfpS62"
      },
      "outputs": [],
      "source": [
        "from google.colab import drive\n",
        "drive.mount('/content/gdrive/719_project')"
      ]
    },
    {
      "cell_type": "markdown",
      "source": [
        "Set paths etc."
      ],
      "metadata": {
        "id": "pnRLzyn7qfuG"
      }
    },
    {
      "cell_type": "code",
      "source": [
        "#setup environment (paths etc.)\n",
        "dir_cifar100 = \"/content/gdrive/719_project/datasets/cifar-100-python\"\n",
        "dir_oxford = \"/content/gdrive/719_project/datasets/oxford-flowers\"\n",
        "dir_saveWeights = \"/content/gdrive/719_project/trained_weights\"\n",
        "dir-preWeights = \"/content/gdrive/719_project/pretrain_weights\""
      ],
      "metadata": {
        "id": "ijSzA7IFpWor"
      },
      "execution_count": null,
      "outputs": []
    },
    {
      "cell_type": "markdown",
      "source": [
        "Import libraries"
      ],
      "metadata": {
        "id": "03zBA9CXqg6s"
      }
    },
    {
      "cell_type": "code",
      "source": [
        "#import libs\n",
        "import pickle"
      ],
      "metadata": {
        "id": "edDaZd4dpZ09"
      },
      "execution_count": null,
      "outputs": []
    },
    {
      "cell_type": "markdown",
      "source": [
        "import cifar-100 and oxford flowers datasets"
      ],
      "metadata": {
        "id": "ZE68G9jvqjzX"
      }
    },
    {
      "cell_type": "code",
      "source": [
        "#import datasets\n",
        "def unpickle(file):\n",
        "    with open(file, 'rb') as fo:\n",
        "        dict = pickle.load(fo, encoding='bytes')\n",
        "    return dict\n",
        "metadata_path = dir_cifar100 + meta # change this path`\\\n",
        "metadata = unpickle(metadata_path)\n",
        "superclass_dict = dict(list(enumerate(metadata[b'coarse_label_names'])))\n",
        "data_pre_path =  dir_cifar100 # change this path\n",
        "# File paths\n",
        "data_train_path = data_pre_path + 'train'\n",
        "data_test_path = data_pre_path + 'test'\n",
        "# Read dictionary\n",
        "data_train_dict = unpickle(data_train_path)\n",
        "data_test_dict = unpickle(data_test_path)\n",
        "# Get data (change the coarse_labels if you want to use the 100 classes)\n",
        "x_train = data_train_dict[b'data']\n",
        "y_train = np.array(data_train_dict[b'coarse_labels'])\n",
        "x_test = data_test_dict[b'data']\n",
        "y_test = np.array(data_test_dict[b'coarse_labels'])"
      ],
      "metadata": {
        "id": "nEn-fnq_pkIS"
      },
      "execution_count": null,
      "outputs": []
    },
    {
      "cell_type": "markdown",
      "source": [
        "ResNet-56 model"
      ],
      "metadata": {
        "id": "sxq-JXCRpbmW"
      }
    },
    {
      "cell_type": "code",
      "source": [
        "#resnet56 model\n",
        "def resnet_56():\n",
        ""
      ],
      "metadata": {
        "id": "4TUZlqH1peb5"
      },
      "execution_count": null,
      "outputs": []
    },
    {
      "cell_type": "markdown",
      "source": [
        "ResNet-56 Trainer"
      ],
      "metadata": {
        "id": "_cNssQH3pgoQ"
      }
    },
    {
      "cell_type": "code",
      "source": [
        "#resnet56 trainer"
      ],
      "metadata": {
        "id": "YXNt9Cbephm9"
      },
      "execution_count": null,
      "outputs": []
    },
    {
      "cell_type": "markdown",
      "source": [
        "Load resnet-56 weights:"
      ],
      "metadata": {
        "id": "dqoEJ0cgpnOZ"
      }
    },
    {
      "cell_type": "code",
      "source": [
        "#load cnn weights"
      ],
      "metadata": {
        "id": "8XCWA57Xppg6"
      },
      "execution_count": null,
      "outputs": []
    },
    {
      "cell_type": "markdown",
      "source": [
        "T2T Model:"
      ],
      "metadata": {
        "id": "B2MzSIIGprrT"
      }
    },
    {
      "cell_type": "code",
      "source": [
        "#t2t model\n",
        "def t2t_7():\n",
        "  self.patchEmbedding = patchEmbedding()\n",
        "  self.t2t_module = t2t_module()\n",
        "  self.t2t = t2t():\n",
        "  self.t2t_wrapper = t2t_wrapper()\n",
        "  self.clsLoss = calcClsLoss()\n",
        "  self.updateWeights = updateWeights()\n",
        "  self.initWeights = initWeights()\n",
        "  self.layers = 7\n",
        "def patchEmbedding():\n",
        "\n",
        "def t2t_module():\n",
        "\n",
        "def t2t():\n",
        "\n",
        "def t2t_wrapper(self, x):\n",
        "  x_transformer = self.t2t_module()\n",
        "  x_transformer = self.t2t()\n",
        "  return x_transformer\n",
        "\n",
        "def calcClsLoss(self, y, y_pred):\n",
        "\n",
        "def updateWeights():\n",
        "\n",
        "def initWeights():\n"
      ],
      "metadata": {
        "id": "aGSPjBIsps9V"
      },
      "execution_count": null,
      "outputs": []
    },
    {
      "cell_type": "markdown",
      "source": [
        "t2t+resnet56 Trainer:"
      ],
      "metadata": {
        "id": "u2GE69n6pwpd"
      }
    },
    {
      "cell_type": "code",
      "source": [
        "#t2t+resnet56 trainer\n",
        "def trainer_t2t_resnet56():\n",
        "  def __init__():\n",
        "    self.cnnFeatures = [0, 1, 2] # 0th, 1st and 2nd layers of cnn will be used in feature guidance\n",
        "    self.vitFeatures = [0, 3, 6] # 0th, 3rd and 6th layers of ViT will be used in feature guidance\n",
        "    self.cnn = resnet_56()\n",
        "    self.vit = t2t_7()\n",
        "  def forward(x):\n",
        "\n",
        "  def backward():\n",
        "\n",
        "  def calcLoss():\n",
        "\n",
        "  def featureGuidance(self,):\n",
        "\n",
        "    # getConjugateFeatures():\n",
        "    # featureAlignment()\n",
        "  def featureAlignment():\n",
        "\n",
        "  def getConjugateFeatures():\n",
        "\n",
        "  def downsample(self, x):"
      ],
      "metadata": {
        "id": "c17nrUfbpyAC"
      },
      "execution_count": null,
      "outputs": []
    },
    {
      "cell_type": "markdown",
      "source": [
        "Call trainer for t2t"
      ],
      "metadata": {
        "id": "U0aUoy-5p4FQ"
      }
    },
    {
      "cell_type": "code",
      "source": [
        "#call trainer t2t\n",
        "NUM_EPOCH = 300\n",
        "BETA = 2.5 # for pure t2t, BETA=0\n",
        "trainer = trainer_t2t_resnet56() # instantiate trainer\n",
        "weights = trainer.vit.initWeights()\n",
        "for epoch in range(0, NUM_EPOCH):\n",
        "  loss_featureGuidance = 0\n",
        "\tloss_cls = 0\n",
        "\tloss = 0\n",
        "  x = image # fix\n",
        "  x_transformer = trainer.vit.patchEmbedding(x)\n",
        "  x_cnn = trainer.downsample(x)\n",
        "  x_transformer_0 = trainer.vit.t2t_wrapper(x_transformer)\n",
        "  x_transformer_1 = trainer.vit.t2t_wrapper(x_transformer_0)\n",
        "  x_transformer_2 = trainer.vit.t2t_wrapper(x_transformer_1)\n",
        "  x_transformer_3 = trainer.vit.t2t_wrapper(x_transformer_2)\n",
        "  x_transformer_4 = trainer.vit.t2t_wrapper(x_transformer_3)\n",
        "  x_transformer_5 = trainer.vit.t2t_wrapper(x_transformer_4)\n",
        "  x_transformer_6 = trainer.vit.t2t_wrapper(x_transformer_5)\n",
        "  x_cnn_0 = trainer.cnn.cnn_wrapper(x_cnn)\n",
        "  x_cnn_1 = trainer.cnn.cnn_wrapper(x_cnn_0)\n",
        "  x_cnn_2 = trainer.cnn.cnn_wrapper(x_cnn_1)\n",
        "  loss_featureGuidance = trainer.featureGuidance(x_transformer_0, x_transformer_3, x_transformer_6,\n",
        "                                                 x_cnn_0, x_cnn_1, x_cnn_2)\n",
        "  y = trainer.vit.MlpHead(x_transformer_6)\n",
        "  loss_cls = trainer.vit.calcClsLoss(self, y, y_pred)\n",
        "  loss = BETA * loss_featureGuidance + loss_cls\n",
        "  weights_transformer = trainer.vit.updateWeightsTransformer(weights, loss)"
      ],
      "metadata": {
        "id": "elbXVLjap5EG"
      },
      "execution_count": null,
      "outputs": []
    },
    {
      "cell_type": "markdown",
      "source": [
        "Evaluate results for t2t+resnet56:"
      ],
      "metadata": {
        "id": "oRhr-oYEp6BK"
      }
    },
    {
      "cell_type": "code",
      "source": [
        "#evaluate results t2t"
      ],
      "metadata": {
        "id": "J0sXGe9_p7Ql"
      },
      "execution_count": null,
      "outputs": []
    },
    {
      "cell_type": "markdown",
      "source": [
        "other vit model:"
      ],
      "metadata": {
        "id": "LdltKStRqFl3"
      }
    },
    {
      "cell_type": "code",
      "source": [
        "#other vit model"
      ],
      "metadata": {
        "id": "LT2xCIWJqH45"
      },
      "execution_count": null,
      "outputs": []
    },
    {
      "cell_type": "markdown",
      "source": [
        "other vit+resnet56 trainer"
      ],
      "metadata": {
        "id": "hxd5CFfZqI4c"
      }
    },
    {
      "cell_type": "code",
      "source": [
        "#other vit+resnet56 trainer"
      ],
      "metadata": {
        "id": "VnQ1n584qPwg"
      },
      "execution_count": null,
      "outputs": []
    },
    {
      "cell_type": "markdown",
      "source": [
        "Evaluate results for other vit+resnet56:"
      ],
      "metadata": {
        "id": "ohgAuxfFqVRB"
      }
    },
    {
      "cell_type": "code",
      "source": [
        "#evaluate results other vit"
      ],
      "metadata": {
        "id": "KFgvXz7FqXP1"
      },
      "execution_count": null,
      "outputs": []
    }
  ]
}